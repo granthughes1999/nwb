{
 "cells": [
  {
   "cell_type": "code",
   "execution_count": 2,
   "metadata": {},
   "outputs": [
    {
     "name": "stdout",
     "output_type": "stream",
     "text": [
      "no Allen Institute NWB API. get this from http://stash.corp.alleninstitute.org/projects/INF/repos/ainwb/browse\n",
      "no OpenEphys.py get this from https://github.com/open-ephys/analysis-tools\n"
     ]
    },
    {
     "ename": "ImportError",
     "evalue": "cannot import name 'make_spike_secs' from 'dlab.nwbtools' (C:\\Users\\denmanlab\\AppData\\Roaming\\Python\\Python311\\site-packages\\dlab\\nwbtools.py)",
     "output_type": "error",
     "traceback": [
      "\u001b[1;31m---------------------------------------------------------------------------\u001b[0m",
      "\u001b[1;31mImportError\u001b[0m                               Traceback (most recent call last)",
      "\u001b[1;32mc:\\Users\\denmanlab\\Documents\\GitHub\\nwb\\Rotation_files\\C140_makeNWB.ipynb Cell 1\u001b[0m line \u001b[0;36m1\n\u001b[0;32m      <a href='vscode-notebook-cell:/c%3A/Users/denmanlab/Documents/GitHub/nwb/Rotation_files/C140_makeNWB.ipynb#W0sZmlsZQ%3D%3D?line=5'>6</a>\u001b[0m \u001b[39mimport\u001b[39;00m \u001b[39mpickle\u001b[39;00m \u001b[39mas\u001b[39;00m \u001b[39mpkl\u001b[39;00m\n\u001b[0;32m      <a href='vscode-notebook-cell:/c%3A/Users/denmanlab/Documents/GitHub/nwb/Rotation_files/C140_makeNWB.ipynb#W0sZmlsZQ%3D%3D?line=7'>8</a>\u001b[0m \u001b[39mfrom\u001b[39;00m \u001b[39mglob\u001b[39;00m \u001b[39mimport\u001b[39;00m glob\n\u001b[1;32m---> <a href='vscode-notebook-cell:/c%3A/Users/denmanlab/Documents/GitHub/nwb/Rotation_files/C140_makeNWB.ipynb#W0sZmlsZQ%3D%3D?line=9'>10</a>\u001b[0m \u001b[39mfrom\u001b[39;00m \u001b[39mdlab\u001b[39;00m\u001b[39m.\u001b[39;00m\u001b[39mnwbtools\u001b[39;00m \u001b[39mimport\u001b[39;00m df_from_phy, load_phy_template, option234_positions, load_unit_data, make_spike_secs\n\u001b[0;32m     <a href='vscode-notebook-cell:/c%3A/Users/denmanlab/Documents/GitHub/nwb/Rotation_files/C140_makeNWB.ipynb#W0sZmlsZQ%3D%3D?line=11'>12</a>\u001b[0m \u001b[39mimport\u001b[39;00m \u001b[39mpynwb\u001b[39;00m\n\u001b[0;32m     <a href='vscode-notebook-cell:/c%3A/Users/denmanlab/Documents/GitHub/nwb/Rotation_files/C140_makeNWB.ipynb#W0sZmlsZQ%3D%3D?line=12'>13</a>\u001b[0m \u001b[39mfrom\u001b[39;00m \u001b[39mhdmf\u001b[39;00m\u001b[39m.\u001b[39;00m\u001b[39mbackends\u001b[39;00m\u001b[39m.\u001b[39;00m\u001b[39mhdf5\u001b[39;00m\u001b[39m.\u001b[39;00m\u001b[39mh5_utils\u001b[39;00m \u001b[39mimport\u001b[39;00m H5DataIO\n",
      "\u001b[1;31mImportError\u001b[0m: cannot import name 'make_spike_secs' from 'dlab.nwbtools' (C:\\Users\\denmanlab\\AppData\\Roaming\\Python\\Python311\\site-packages\\dlab\\nwbtools.py)"
     ]
    }
   ],
   "source": [
    "import warnings\n",
    "import numpy as np\n",
    "import pandas as pd\n",
    "import matplotlib.pyplot as plt\n",
    "import os\n",
    "import pickle as pkl\n",
    "\n",
    "from glob import glob\n",
    "\n",
    "from dlab.nwbtools import df_from_phy, load_phy_template, option234_positions, load_unit_data, make_spike_secs\n",
    "\n",
    "import pynwb\n",
    "from hdmf.backends.hdf5.h5_utils import H5DataIO\n",
    "from hdmf.utils import StrDataset\n",
    "\n",
    "from datetime import datetime\n",
    "from dateutil.tz import tzlocal\n",
    "from pynwb import NWBFile\n",
    "\n",
    "%matplotlib inline\n",
    "%load_ext autoreload\n",
    "%autoreload 2\n",
    "\n",
    "warnings.simplefilter(action='ignore', category=UserWarning)"
   ]
  },
  {
   "cell_type": "markdown",
   "metadata": {},
   "source": [
    "## Gather Spike and Stimulus Data"
   ]
  },
  {
   "cell_type": "code",
   "execution_count": 1,
   "metadata": {},
   "outputs": [
    {
     "ename": "NameError",
     "evalue": "name 'os' is not defined",
     "output_type": "error",
     "traceback": [
      "\u001b[1;31m---------------------------------------------------------------------------\u001b[0m",
      "\u001b[1;31mNameError\u001b[0m                                 Traceback (most recent call last)",
      "\u001b[1;32mc:\\Users\\denmanlab\\Documents\\GitHub\\nwb\\Rotation_files\\C140_makeNWB.ipynb Cell 3\u001b[0m line \u001b[0;36m2\n\u001b[0;32m      <a href='vscode-notebook-cell:/c%3A/Users/denmanlab/Documents/GitHub/nwb/Rotation_files/C140_makeNWB.ipynb#W2sZmlsZQ%3D%3D?line=0'>1</a>\u001b[0m recording_path \u001b[39m=\u001b[39m  \u001b[39mr\u001b[39m\u001b[39m'\u001b[39m\u001b[39mG:/Grant/rotation/2023-09-20_14-25-05_eOPN3_33/\u001b[39m\u001b[39m'\u001b[39m\n\u001b[1;32m----> <a href='vscode-notebook-cell:/c%3A/Users/denmanlab/Documents/GitHub/nwb/Rotation_files/C140_makeNWB.ipynb#W2sZmlsZQ%3D%3D?line=1'>2</a>\u001b[0m data_path \u001b[39m=\u001b[39m os\u001b[39m.\u001b[39mpath\u001b[39m.\u001b[39mabspath(os\u001b[39m.\u001b[39mpath\u001b[39m.\u001b[39mjoin(recording_path,\u001b[39m*\u001b[39m[os\u001b[39m.\u001b[39mpardir]\u001b[39m*\u001b[39m\u001b[39m4\u001b[39m))\n\u001b[0;32m      <a href='vscode-notebook-cell:/c%3A/Users/denmanlab/Documents/GitHub/nwb/Rotation_files/C140_makeNWB.ipynb#W2sZmlsZQ%3D%3D?line=2'>3</a>\u001b[0m old_dir \u001b[39m=\u001b[39m os\u001b[39m.\u001b[39mgetcwd()\n\u001b[0;32m      <a href='vscode-notebook-cell:/c%3A/Users/denmanlab/Documents/GitHub/nwb/Rotation_files/C140_makeNWB.ipynb#W2sZmlsZQ%3D%3D?line=3'>4</a>\u001b[0m os\u001b[39m.\u001b[39mchdir(data_path)\n",
      "\u001b[1;31mNameError\u001b[0m: name 'os' is not defined"
     ]
    }
   ],
   "source": [
    "recording_path =  r'G:/Grant/rotation/2023-09-20_14-25-05_eOPN3_33/'\n",
    "data_path = os.path.abspath(os.path.join(recording_path,*[os.pardir]*4))\n",
    "old_dir = os.getcwd()\n",
    "os.chdir(data_path)\n",
    "\n",
    "\n",
    "experimenter    = 'grh'\n",
    "experiment_name = 'eOPN3_33_20230920'\n",
    "experiment_desc = '3 probe recording of eOPN3_33 using roation project stimuli. black white flashes (100), white noise matrix, drifting grating, naturalistic images'\n",
    "lab             = 'Daniel Denman Lab'\n",
    "institution     = 'University of Colorado, Anschutz Medical Campus'\n",
    "session_id      = os.path.basename(os.path.abspath(os.path.join(recording_path,*[os.pardir]*3)))"
   ]
  },
  {
   "cell_type": "code",
   "execution_count": 3,
   "metadata": {},
   "outputs": [
    {
     "data": {
      "text/html": [
       "<div>\n",
       "<style scoped>\n",
       "    .dataframe tbody tr th:only-of-type {\n",
       "        vertical-align: middle;\n",
       "    }\n",
       "\n",
       "    .dataframe tbody tr th {\n",
       "        vertical-align: top;\n",
       "    }\n",
       "\n",
       "    .dataframe thead th {\n",
       "        text-align: right;\n",
       "    }\n",
       "</style>\n",
       "<table border=\"1\" class=\"dataframe\">\n",
       "  <thead>\n",
       "    <tr style=\"text-align: right;\">\n",
       "      <th></th>\n",
       "      <th>stim</th>\n",
       "      <th>start</th>\n",
       "      <th>green</th>\n",
       "      <th>uv</th>\n",
       "      <th>sweep</th>\n",
       "      <th>timestamp</th>\n",
       "      <th>ori</th>\n",
       "      <th>x</th>\n",
       "      <th>y</th>\n",
       "    </tr>\n",
       "  </thead>\n",
       "  <tbody>\n",
       "    <tr>\n",
       "      <th>0</th>\n",
       "      <td>Binary Luminance Noise</td>\n",
       "      <td>204.254167</td>\n",
       "      <td>[[1, -1, -1, -1, 1, -1, 1, 1, 1, 1, -1, -1, -1...</td>\n",
       "      <td>[[1, -1, -1, -1, 1, -1, 1, 1, 1, 1, -1, -1, -1...</td>\n",
       "      <td>NaN</td>\n",
       "      <td>NaN</td>\n",
       "      <td>NaN</td>\n",
       "      <td>NaN</td>\n",
       "      <td>NaN</td>\n",
       "    </tr>\n",
       "    <tr>\n",
       "      <th>1</th>\n",
       "      <td>Binary Luminance Noise</td>\n",
       "      <td>204.278633</td>\n",
       "      <td>[[-1, 1, -1, -1, -1, -1, 1, -1, -1, 1, -1, -1,...</td>\n",
       "      <td>[[-1, 1, -1, -1, -1, -1, 1, -1, -1, 1, -1, -1,...</td>\n",
       "      <td>NaN</td>\n",
       "      <td>NaN</td>\n",
       "      <td>NaN</td>\n",
       "      <td>NaN</td>\n",
       "      <td>NaN</td>\n",
       "    </tr>\n",
       "    <tr>\n",
       "      <th>2</th>\n",
       "      <td>Binary Luminance Noise</td>\n",
       "      <td>204.312100</td>\n",
       "      <td>[[1, -1, -1, 1, 1, 1, -1, -1, 1, -1, -1, 1, -1...</td>\n",
       "      <td>[[1, -1, -1, 1, 1, 1, -1, -1, 1, -1, -1, 1, -1...</td>\n",
       "      <td>NaN</td>\n",
       "      <td>NaN</td>\n",
       "      <td>NaN</td>\n",
       "      <td>NaN</td>\n",
       "      <td>NaN</td>\n",
       "    </tr>\n",
       "    <tr>\n",
       "      <th>3</th>\n",
       "      <td>Binary Luminance Noise</td>\n",
       "      <td>204.345567</td>\n",
       "      <td>[[1, -1, -1, 1, -1, -1, 1, -1, 1, -1, 1, 1, -1...</td>\n",
       "      <td>[[1, -1, -1, 1, -1, -1, 1, -1, 1, -1, 1, 1, -1...</td>\n",
       "      <td>NaN</td>\n",
       "      <td>NaN</td>\n",
       "      <td>NaN</td>\n",
       "      <td>NaN</td>\n",
       "      <td>NaN</td>\n",
       "    </tr>\n",
       "    <tr>\n",
       "      <th>4</th>\n",
       "      <td>Binary Luminance Noise</td>\n",
       "      <td>204.379033</td>\n",
       "      <td>[[-1, 1, -1, 1, -1, -1, -1, 1, -1, 1, -1, 1, -...</td>\n",
       "      <td>[[-1, 1, -1, 1, -1, -1, -1, 1, -1, 1, -1, 1, -...</td>\n",
       "      <td>NaN</td>\n",
       "      <td>NaN</td>\n",
       "      <td>NaN</td>\n",
       "      <td>NaN</td>\n",
       "      <td>NaN</td>\n",
       "    </tr>\n",
       "  </tbody>\n",
       "</table>\n",
       "</div>"
      ],
      "text/plain": [
       "                     stim       start  \\\n",
       "0  Binary Luminance Noise  204.254167   \n",
       "1  Binary Luminance Noise  204.278633   \n",
       "2  Binary Luminance Noise  204.312100   \n",
       "3  Binary Luminance Noise  204.345567   \n",
       "4  Binary Luminance Noise  204.379033   \n",
       "\n",
       "                                               green  \\\n",
       "0  [[1, -1, -1, -1, 1, -1, 1, 1, 1, 1, -1, -1, -1...   \n",
       "1  [[-1, 1, -1, -1, -1, -1, 1, -1, -1, 1, -1, -1,...   \n",
       "2  [[1, -1, -1, 1, 1, 1, -1, -1, 1, -1, -1, 1, -1...   \n",
       "3  [[1, -1, -1, 1, -1, -1, 1, -1, 1, -1, 1, 1, -1...   \n",
       "4  [[-1, 1, -1, 1, -1, -1, -1, 1, -1, 1, -1, 1, -...   \n",
       "\n",
       "                                                  uv  sweep  timestamp  ori  \\\n",
       "0  [[1, -1, -1, -1, 1, -1, 1, 1, 1, 1, -1, -1, -1...    NaN        NaN  NaN   \n",
       "1  [[-1, 1, -1, -1, -1, -1, 1, -1, -1, 1, -1, -1,...    NaN        NaN  NaN   \n",
       "2  [[1, -1, -1, 1, 1, 1, -1, -1, 1, -1, -1, 1, -1...    NaN        NaN  NaN   \n",
       "3  [[1, -1, -1, 1, -1, -1, 1, -1, 1, -1, 1, 1, -1...    NaN        NaN  NaN   \n",
       "4  [[-1, 1, -1, 1, -1, -1, -1, 1, -1, 1, -1, 1, -...    NaN        NaN  NaN   \n",
       "\n",
       "    x   y  \n",
       "0 NaN NaN  \n",
       "1 NaN NaN  \n",
       "2 NaN NaN  \n",
       "3 NaN NaN  \n",
       "4 NaN NaN  "
      ]
     },
     "execution_count": 3,
     "metadata": {},
     "output_type": "execute_result"
    }
   ],
   "source": [
    "stim_data = pd.read_json(glob('intermediates/*stim*')[0])\n",
    "\n",
    "stim_data.head()"
   ]
  },
  {
   "cell_type": "code",
   "execution_count": 4,
   "metadata": {},
   "outputs": [
    {
     "data": {
      "text/html": [
       "<div>\n",
       "<style scoped>\n",
       "    .dataframe tbody tr th:only-of-type {\n",
       "        vertical-align: middle;\n",
       "    }\n",
       "\n",
       "    .dataframe tbody tr th {\n",
       "        vertical-align: top;\n",
       "    }\n",
       "\n",
       "    .dataframe thead th {\n",
       "        text-align: right;\n",
       "    }\n",
       "</style>\n",
       "<table border=\"1\" class=\"dataframe\">\n",
       "  <thead>\n",
       "    <tr style=\"text-align: right;\">\n",
       "      <th></th>\n",
       "      <th>probe</th>\n",
       "      <th>cluster_id</th>\n",
       "      <th>group</th>\n",
       "      <th>depth</th>\n",
       "      <th>ch</th>\n",
       "      <th>xpos</th>\n",
       "      <th>ypos</th>\n",
       "      <th>template</th>\n",
       "      <th>weights</th>\n",
       "      <th>Amplitude</th>\n",
       "      <th>amplitudes</th>\n",
       "      <th>times</th>\n",
       "      <th>n_spikes</th>\n",
       "      <th>fr</th>\n",
       "      <th>ContamPct</th>\n",
       "      <th>KSLabel</th>\n",
       "    </tr>\n",
       "  </thead>\n",
       "  <tbody>\n",
       "    <tr>\n",
       "      <th>0</th>\n",
       "      <td>A</td>\n",
       "      <td>0</td>\n",
       "      <td>good</td>\n",
       "      <td>400.0</td>\n",
       "      <td>0</td>\n",
       "      <td>37.0</td>\n",
       "      <td>1240.0</td>\n",
       "      <td>[[0.0, 0.0, 0.0, 0.0, 0.0, 0.0, 0.0, 0.0, 0.0,...</td>\n",
       "      <td>[[0.0, 0.0], [0.0, 0.0], [0.0, 0.0], [0.0, 0.0...</td>\n",
       "      <td>3326.4</td>\n",
       "      <td>[33.0842056274, 32.8041152954, 31.2109260559, ...</td>\n",
       "      <td>[34.2384358989, 35.8248245337, 35.8295292252, ...</td>\n",
       "      <td>2506</td>\n",
       "      <td>0.628364</td>\n",
       "      <td>0.0</td>\n",
       "      <td>good</td>\n",
       "    </tr>\n",
       "    <tr>\n",
       "      <th>1</th>\n",
       "      <td>A</td>\n",
       "      <td>1</td>\n",
       "      <td>good</td>\n",
       "      <td>400.0</td>\n",
       "      <td>1</td>\n",
       "      <td>37.0</td>\n",
       "      <td>1240.0</td>\n",
       "      <td>[[0.0, 0.0, 0.0, 0.0, 0.0, 0.0, 0.0, 0.0, 0.0,...</td>\n",
       "      <td>[[0.0, 0.0], [0.0, 0.0], [0.0, 0.0], [0.0, 0.0...</td>\n",
       "      <td>1265.5</td>\n",
       "      <td>[9.1411237717, 11.5981779099, 8.9386949539, 10...</td>\n",
       "      <td>[33.363594839, 33.5295602967, 33.6905229602, 3...</td>\n",
       "      <td>80943</td>\n",
       "      <td>20.295952</td>\n",
       "      <td>4.6</td>\n",
       "      <td>good</td>\n",
       "    </tr>\n",
       "    <tr>\n",
       "      <th>2</th>\n",
       "      <td>A</td>\n",
       "      <td>2</td>\n",
       "      <td>noise</td>\n",
       "      <td>400.0</td>\n",
       "      <td>1</td>\n",
       "      <td>37.0</td>\n",
       "      <td>1240.0</td>\n",
       "      <td>[[0.0, 0.0, 0.0, 0.0, 0.0, 0.0, 0.0, 0.0, 0.0,...</td>\n",
       "      <td>[[0.0, 0.0], [0.0, 0.0], [0.0, 0.0], [0.0, 0.0...</td>\n",
       "      <td>1656.9</td>\n",
       "      <td>[14.7545623779, 18.8596878052, 18.714132309, 1...</td>\n",
       "      <td>[44.595181952, 67.6421773402, 129.7825191957, ...</td>\n",
       "      <td>144</td>\n",
       "      <td>0.036107</td>\n",
       "      <td>0.0</td>\n",
       "      <td>mua</td>\n",
       "    </tr>\n",
       "    <tr>\n",
       "      <th>3</th>\n",
       "      <td>A</td>\n",
       "      <td>3</td>\n",
       "      <td>mua</td>\n",
       "      <td>400.0</td>\n",
       "      <td>1</td>\n",
       "      <td>37.0</td>\n",
       "      <td>1240.0</td>\n",
       "      <td>[[0.0, 0.0, 0.0, 0.0, 0.0, 0.0, 0.0, 0.0, 0.0,...</td>\n",
       "      <td>[[0.0, 0.0], [0.0, 0.0], [0.0, 0.0], [0.0, 0.0...</td>\n",
       "      <td>1791.7</td>\n",
       "      <td>[15.4172449112, 11.5067329407, 11.2728691101, ...</td>\n",
       "      <td>[64.9875844983, 69.3817072568, 71.7200426102, ...</td>\n",
       "      <td>765</td>\n",
       "      <td>0.191819</td>\n",
       "      <td>0.0</td>\n",
       "      <td>mua</td>\n",
       "    </tr>\n",
       "    <tr>\n",
       "      <th>4</th>\n",
       "      <td>A</td>\n",
       "      <td>4</td>\n",
       "      <td>good</td>\n",
       "      <td>400.0</td>\n",
       "      <td>2</td>\n",
       "      <td>37.0</td>\n",
       "      <td>1240.0</td>\n",
       "      <td>[[0.0, 0.0, 0.0, 0.0, 0.0, 0.0, 0.0, 0.0, 0.0,...</td>\n",
       "      <td>[[0.0, 0.0], [0.0, 0.0], [0.0, 0.0], [0.0, 0.0...</td>\n",
       "      <td>2167.3</td>\n",
       "      <td>[24.0684566498, 20.7031936646, 19.0640583038, ...</td>\n",
       "      <td>[33.3580226172, 33.3650629694, 33.3956601396, ...</td>\n",
       "      <td>12937</td>\n",
       "      <td>3.243872</td>\n",
       "      <td>1.7</td>\n",
       "      <td>good</td>\n",
       "    </tr>\n",
       "  </tbody>\n",
       "</table>\n",
       "</div>"
      ],
      "text/plain": [
       "  probe  cluster_id  group  depth  ch  xpos    ypos  \\\n",
       "0     A           0   good  400.0   0  37.0  1240.0   \n",
       "1     A           1   good  400.0   1  37.0  1240.0   \n",
       "2     A           2  noise  400.0   1  37.0  1240.0   \n",
       "3     A           3    mua  400.0   1  37.0  1240.0   \n",
       "4     A           4   good  400.0   2  37.0  1240.0   \n",
       "\n",
       "                                            template  \\\n",
       "0  [[0.0, 0.0, 0.0, 0.0, 0.0, 0.0, 0.0, 0.0, 0.0,...   \n",
       "1  [[0.0, 0.0, 0.0, 0.0, 0.0, 0.0, 0.0, 0.0, 0.0,...   \n",
       "2  [[0.0, 0.0, 0.0, 0.0, 0.0, 0.0, 0.0, 0.0, 0.0,...   \n",
       "3  [[0.0, 0.0, 0.0, 0.0, 0.0, 0.0, 0.0, 0.0, 0.0,...   \n",
       "4  [[0.0, 0.0, 0.0, 0.0, 0.0, 0.0, 0.0, 0.0, 0.0,...   \n",
       "\n",
       "                                             weights  Amplitude  \\\n",
       "0  [[0.0, 0.0], [0.0, 0.0], [0.0, 0.0], [0.0, 0.0...     3326.4   \n",
       "1  [[0.0, 0.0], [0.0, 0.0], [0.0, 0.0], [0.0, 0.0...     1265.5   \n",
       "2  [[0.0, 0.0], [0.0, 0.0], [0.0, 0.0], [0.0, 0.0...     1656.9   \n",
       "3  [[0.0, 0.0], [0.0, 0.0], [0.0, 0.0], [0.0, 0.0...     1791.7   \n",
       "4  [[0.0, 0.0], [0.0, 0.0], [0.0, 0.0], [0.0, 0.0...     2167.3   \n",
       "\n",
       "                                          amplitudes  \\\n",
       "0  [33.0842056274, 32.8041152954, 31.2109260559, ...   \n",
       "1  [9.1411237717, 11.5981779099, 8.9386949539, 10...   \n",
       "2  [14.7545623779, 18.8596878052, 18.714132309, 1...   \n",
       "3  [15.4172449112, 11.5067329407, 11.2728691101, ...   \n",
       "4  [24.0684566498, 20.7031936646, 19.0640583038, ...   \n",
       "\n",
       "                                               times  n_spikes         fr  \\\n",
       "0  [34.2384358989, 35.8248245337, 35.8295292252, ...      2506   0.628364   \n",
       "1  [33.363594839, 33.5295602967, 33.6905229602, 3...     80943  20.295952   \n",
       "2  [44.595181952, 67.6421773402, 129.7825191957, ...       144   0.036107   \n",
       "3  [64.9875844983, 69.3817072568, 71.7200426102, ...       765   0.191819   \n",
       "4  [33.3580226172, 33.3650629694, 33.3956601396, ...     12937   3.243872   \n",
       "\n",
       "   ContamPct KSLabel  \n",
       "0        0.0    good  \n",
       "1        4.6    good  \n",
       "2        0.0     mua  \n",
       "3        0.0     mua  \n",
       "4        1.7    good  "
      ]
     },
     "execution_count": 4,
     "metadata": {},
     "output_type": "execute_result"
    }
   ],
   "source": [
    "unit_data = pd.read_json(glob('intermediates/*unit*')[0])\n",
    "\n",
    "unit_data.head()\n"
   ]
  },
  {
   "cell_type": "markdown",
   "metadata": {},
   "source": [
    "### Add HERBS Data"
   ]
  },
  {
   "cell_type": "markdown",
   "metadata": {},
   "source": []
  },
  {
   "cell_type": "markdown",
   "metadata": {},
   "source": [
    "## Create NWB"
   ]
  },
  {
   "cell_type": "code",
   "execution_count": 49,
   "metadata": {},
   "outputs": [],
   "source": [
    "nwbfile = NWBFile(identifier             = experiment_name, \n",
    "                  session_start_time     = datetime.now(tzlocal()),\n",
    "                  experimenter           = experimenter,\n",
    "                  lab                    = lab,\n",
    "                  institution            = institution,\n",
    "                  session_description = experiment_desc,\n",
    "                  session_id             = session_id,\n",
    "                  )"
   ]
  },
  {
   "cell_type": "markdown",
   "metadata": {},
   "source": [
    "Add Epochs"
   ]
  },
  {
   "cell_type": "code",
   "execution_count": 50,
   "metadata": {},
   "outputs": [],
   "source": [
    "epochs = np.unique(stim_data.stim)\n",
    "\n",
    "for stimulus in epochs:\n",
    "    nwbfile.add_epoch(stim_data[stim_data.stim == stimulus].start.values[0],\n",
    "                      stim_data[stim_data.stim == stimulus].start.values[-1],\n",
    "                      stimulus)"
   ]
  },
  {
   "cell_type": "markdown",
   "metadata": {},
   "source": [
    "Add columns for describing each trial"
   ]
  },
  {
   "cell_type": "code",
   "execution_count": 51,
   "metadata": {},
   "outputs": [
    {
     "data": {
      "text/plain": [
       "Index(['stim', 'start', 'green', 'uv', 'sweep', 'timestamp', 'ori', 'x', 'y'], dtype='object')"
      ]
     },
     "execution_count": 51,
     "metadata": {},
     "output_type": "execute_result"
    }
   ],
   "source": [
    "stim_data.keys()"
   ]
  },
  {
   "cell_type": "code",
   "execution_count": 52,
   "metadata": {},
   "outputs": [],
   "source": [
    "nwbfile.add_trial_column(name        = 'stimulus',  \n",
    "                         description = 'stimulus name')\n",
    "nwbfile.add_trial_column(name        = 'frame_no', \n",
    "                         description = 'index of presented frame')\n",
    "nwbfile.add_trial_column(name        = 'green',    \n",
    "                         description = 'green layer of presented frame')\n",
    "nwbfile.add_trial_column(name        = 'uv',       \n",
    "                         description = 'uv layer of presented frame')\n",
    "nwbfile.add_trial_column(name        = 'sweep',    \n",
    "                         description = 'index of sweep')\n",
    "nwbfile.add_trial_column(name        = 'ori',     \n",
    "                         description = 'sweeping bar orientation')\n",
    "nwbfile.add_trial_column(name        = 'x',        \n",
    "                         description = 'x position of bar center')\n",
    "nwbfile.add_trial_column(name        = 'y',       \n",
    "                         description = 'y position of bar center')\n"
   ]
  },
  {
   "cell_type": "markdown",
   "metadata": {},
   "source": [
    "Fill trial columns with stimulus data"
   ]
  },
  {
   "cell_type": "code",
   "execution_count": 53,
   "metadata": {},
   "outputs": [],
   "source": [
    "def nan2nan(cell):\n",
    "    try:\n",
    "        a = [np.nan if pd.isnull(x.all()) else x for x in [cell]][0]\n",
    "    except:\n",
    "        try:\n",
    "            a = [np.nan if pd.isnull(x).all() else x for x in [cell]][0]\n",
    "        except:\n",
    "            a = [np.nan if pd.isnull(x) else x for x in [cell]][0]\n",
    "    return a"
   ]
  },
  {
   "cell_type": "code",
   "execution_count": 54,
   "metadata": {},
   "outputs": [
    {
     "name": "stdout",
     "output_type": "stream",
     "text": [
      "Binary Luminance Noise\n",
      "Gaussian Luminance Noise\n",
      "Sweeping Bar\n",
      "Ternary Phosphor Noise\n"
     ]
    }
   ],
   "source": [
    "for stimulus in epochs:\n",
    "    print(stimulus)\n",
    "    stim = stim_data[stim_data.stim == stimulus]\n",
    "    stim.reset_index(drop=True,inplace=True)\n",
    "    mean_diff = np.mean(np.diff(stim.start.values))\n",
    "    for i, trial_start in enumerate(stim.start.values):\n",
    "\n",
    "        nwbfile.add_trial(start_time = trial_start,\n",
    "                          stop_time  = trial_start + mean_diff,\n",
    "                          stimulus   = stimulus,\n",
    "                          frame_no   = i,\n",
    "                          green      = nan2nan(stim.green[i]),\n",
    "                          uv         = nan2nan(stim.uv[i]),\n",
    "                          sweep      = nan2nan(stim.sweep[i]),\n",
    "                          ori        = nan2nan(stim.ori[i]),\n",
    "                          x          = nan2nan(stim.x[i]),\n",
    "                          y          = nan2nan(stim.y[i]),\n",
    "                        )"
   ]
  },
  {
   "cell_type": "code",
   "execution_count": 55,
   "metadata": {},
   "outputs": [],
   "source": [
    "probes = np.unique(unit_data.probe)\n",
    "device = nwbfile.create_device('DenmanLab_EphysRig1','3 probe rig')\n",
    "\n",
    "for i, probe in enumerate(probes):\n",
    "    electrode_name = 'Probe '+str(i)\n",
    "    description = \"Neuropixels1.0_\"+probes[i]\n",
    "    location = \"somewhere in the brain\"\n",
    "\n",
    "    electrode_group = nwbfile.create_electrode_group(electrode_name,\n",
    "                                                     description=description,\n",
    "                                                     location=location,\n",
    "                                                     device=device)\n",
    "    \n",
    "    #add channels to each probe\n",
    "    for ch in range(option234_positions.shape[0]):\n",
    "        nwbfile.add_electrode(x=option234_positions[ch,0],y=0.,z=option234_positions[0,1],imp=0.0,location='none',filtering='high pass 300Hz',group=electrode_group)\n",
    "        \n",
    "electrode_table_region = nwbfile.create_electrode_table_region([0], 'the second electrode')\n"
   ]
  },
  {
   "cell_type": "code",
   "execution_count": 56,
   "metadata": {},
   "outputs": [],
   "source": [
    "nwbfile.add_unit_column(name        = 'probe', \n",
    "                        description = 'probe ID')\n",
    "\n",
    "nwbfile.add_unit_column(name        = 'unit_id',\n",
    "                        description = 'cluster ID from KS2')\n",
    "\n",
    "nwbfile.add_unit_column(name        = 'group', \n",
    "                        description = 'user label of good/mua')\n",
    "\n",
    "nwbfile.add_unit_column(name        = 'KSLabel', \n",
    "                        description = 'Kilosort label')\n",
    "\n",
    "# nwbfile.add_unit_column(name        = 'qmLabel', \n",
    "#                         description = 'Bombcell label')\n",
    "\n",
    "nwbfile.add_unit_column(name        = 'depth', \n",
    "                        description = 'the depth of this unit from zpos and insertion depth')\n",
    "\n",
    "nwbfile.add_unit_column(name        = 'ch', \n",
    "                        description = 'channel number on probe')\n",
    "\n",
    "nwbfile.add_unit_column(name        = 'xpos', \n",
    "                        description = 'the x position on probe')\n",
    "\n",
    "nwbfile.add_unit_column(name        = 'ypos', \n",
    "                        description = 'the y position on probe')\n",
    "\n",
    "# nwbfile.add_unit_column(name        = 'template',\n",
    "#                         description = 'Template at each channel across timepoints [nTimepoints,nTempChannels]')\n",
    "\n",
    "nwbfile.add_unit_column(name        = 'amplitudes',\n",
    "                        description = 'Amplitude of each spike over time',index=True)\n",
    "\n",
    "nwbfile.add_unit_column(name        = 'n_spikes', \n",
    "                        description = 'total number of spikes across recording')\n",
    "\n",
    "nwbfile.add_unit_column(name        = 'fr', \n",
    "                        description = 'firing rate across recording')\n",
    "\n",
    "nwbfile.add_unit_column(name        = 'amp', \n",
    "                        description = 'Kilosort amplitude')\n",
    "\n",
    "nwbfile.add_unit_column(name        = 'ContamPct', \n",
    "                        description = 'Kilosort ISI contamination')"
   ]
  },
  {
   "cell_type": "code",
   "execution_count": 57,
   "metadata": {},
   "outputs": [
    {
     "data": {
      "text/plain": [
       "Index(['probe', 'cluster_id', 'group', 'depth', 'ch', 'xpos', 'ypos',\n",
       "       'template', 'weights', 'Amplitude', 'amplitudes', 'times', 'n_spikes',\n",
       "       'fr', 'ContamPct', 'KSLabel'],\n",
       "      dtype='object')"
      ]
     },
     "execution_count": 57,
     "metadata": {},
     "output_type": "execute_result"
    }
   ],
   "source": [
    "unit_data.keys()"
   ]
  },
  {
   "cell_type": "code",
   "execution_count": 58,
   "metadata": {},
   "outputs": [],
   "source": [
    "for i,unit_row in unit_data.iterrows():\n",
    "    nwbfile.add_unit(probe       = str(unit_row.probe),\n",
    "                     id          = int(unit_row.name), #built-in\n",
    "                     unit_id     = unit_row.cluster_id,\n",
    "                     spike_times = unit_row.times, #built-in\n",
    "                     electrodes  = np.where(np.array(unit_row.weights) > 0)[0], #built-in\n",
    "                     depth       = unit_row.depth,\n",
    "                     ch          = unit_row.ch,\n",
    "                     xpos        = unit_row.xpos,\n",
    "                     ypos        = unit_row.ypos,\n",
    "                    #  template    = np.array(unit_row.template,dtpye='object'),\n",
    "                     amplitudes  = np.array(unit_row.amplitudes,dtype='object'),\n",
    "                     n_spikes    = unit_row.n_spikes,\n",
    "                     fr          = unit_row.fr,\n",
    "                     group       = str(unit_row.group),\n",
    "                     KSLabel     = str(unit_row.KSLabel),\n",
    "                     amp         = unit_row.Amplitude,\n",
    "                     ContamPct   = unit_row.ContamPct\n",
    "                     )"
   ]
  },
  {
   "cell_type": "code",
   "execution_count": 59,
   "metadata": {},
   "outputs": [],
   "source": [
    "nwb_path = os.path.join(data_path,os.path.basename(data_path))+'.nwb'\n",
    "with pynwb.NWBHDF5IO(nwb_path, 'w') as io:\n",
    "    io.write(nwbfile)"
   ]
  },
  {
   "cell_type": "code",
   "execution_count": 68,
   "metadata": {},
   "outputs": [
    {
     "ename": "UnsupportedOperation",
     "evalue": "Cannot read data from file C:\\Users\\juans\\github\\color_and_form\\data\\C140\\C140.nwb in mode 'r'. There are no values.",
     "output_type": "error",
     "traceback": [
      "\u001b[1;31m---------------------------------------------------------------------------\u001b[0m",
      "\u001b[1;31mUnsupportedOperation\u001b[0m                      Traceback (most recent call last)",
      "File \u001b[1;32mc:\\Users\\juans\\anaconda3\\envs\\analysis\\Lib\\site-packages\\hdmf\\backends\\hdf5\\h5tools.py:479\u001b[0m, in \u001b[0;36mHDF5IO.read\u001b[1;34m(self, **kwargs)\u001b[0m\n\u001b[0;32m    478\u001b[0m \u001b[39mtry\u001b[39;00m:\n\u001b[1;32m--> 479\u001b[0m     \u001b[39mreturn\u001b[39;00m \u001b[39msuper\u001b[39;49m()\u001b[39m.\u001b[39;49mread(\u001b[39m*\u001b[39;49m\u001b[39m*\u001b[39;49mkwargs)\n\u001b[0;32m    480\u001b[0m \u001b[39mexcept\u001b[39;00m UnsupportedOperation \u001b[39mas\u001b[39;00m e:\n",
      "File \u001b[1;32mc:\\Users\\juans\\anaconda3\\envs\\analysis\\Lib\\site-packages\\hdmf\\utils.py:644\u001b[0m, in \u001b[0;36mdocval.<locals>.dec.<locals>.func_call\u001b[1;34m(*args, **kwargs)\u001b[0m\n\u001b[0;32m    643\u001b[0m pargs \u001b[39m=\u001b[39m _check_args(args, kwargs)\n\u001b[1;32m--> 644\u001b[0m \u001b[39mreturn\u001b[39;00m func(args[\u001b[39m0\u001b[39;49m], \u001b[39m*\u001b[39;49m\u001b[39m*\u001b[39;49mpargs)\n",
      "File \u001b[1;32mc:\\Users\\juans\\anaconda3\\envs\\analysis\\Lib\\site-packages\\hdmf\\backends\\io.py:59\u001b[0m, in \u001b[0;36mHDMFIO.read\u001b[1;34m(self, **kwargs)\u001b[0m\n\u001b[0;32m     57\u001b[0m \u001b[39mif\u001b[39;00m \u001b[39mall\u001b[39m(\u001b[39mlen\u001b[39m(v) \u001b[39m==\u001b[39m \u001b[39m0\u001b[39m \u001b[39mfor\u001b[39;00m v \u001b[39min\u001b[39;00m f_builder\u001b[39m.\u001b[39mvalues()):\n\u001b[0;32m     58\u001b[0m     \u001b[39m# TODO also check that the keys are appropriate. print a better error message\u001b[39;00m\n\u001b[1;32m---> 59\u001b[0m     \u001b[39mraise\u001b[39;00m UnsupportedOperation(\u001b[39m'\u001b[39m\u001b[39mCannot build data. There are no values.\u001b[39m\u001b[39m'\u001b[39m)\n\u001b[0;32m     60\u001b[0m container \u001b[39m=\u001b[39m \u001b[39mself\u001b[39m\u001b[39m.\u001b[39m__manager\u001b[39m.\u001b[39mconstruct(f_builder)\n",
      "\u001b[1;31mUnsupportedOperation\u001b[0m: Cannot build data. There are no values.",
      "\nDuring handling of the above exception, another exception occurred:\n",
      "\u001b[1;31mUnsupportedOperation\u001b[0m                      Traceback (most recent call last)",
      "\u001b[1;32mc:\\Users\\juans\\github\\color_and_form\\scripts\\analysis_notebooks\\recordings\\C140\\C140_makeNWB.ipynb Cell 22\u001b[0m line \u001b[0;36m2\n\u001b[0;32m      <a href='vscode-notebook-cell:/c%3A/Users/juans/github/color_and_form/scripts/analysis_notebooks/recordings/C140/C140_makeNWB.ipynb#X34sZmlsZQ%3D%3D?line=0'>1</a>\u001b[0m io \u001b[39m=\u001b[39m pynwb\u001b[39m.\u001b[39mNWBHDF5IO(nwb_path, mode\u001b[39m=\u001b[39m\u001b[39m'\u001b[39m\u001b[39mr\u001b[39m\u001b[39m'\u001b[39m)\n\u001b[1;32m----> <a href='vscode-notebook-cell:/c%3A/Users/juans/github/color_and_form/scripts/analysis_notebooks/recordings/C140/C140_makeNWB.ipynb#X34sZmlsZQ%3D%3D?line=1'>2</a>\u001b[0m nwb \u001b[39m=\u001b[39m io\u001b[39m.\u001b[39;49mread(skip_version_check\u001b[39m=\u001b[39;49m\u001b[39mTrue\u001b[39;49;00m)\n",
      "File \u001b[1;32mc:\\Users\\juans\\anaconda3\\envs\\analysis\\Lib\\site-packages\\hdmf\\utils.py:644\u001b[0m, in \u001b[0;36mdocval.<locals>.dec.<locals>.func_call\u001b[1;34m(*args, **kwargs)\u001b[0m\n\u001b[0;32m    642\u001b[0m \u001b[39mdef\u001b[39;00m \u001b[39mfunc_call\u001b[39m(\u001b[39m*\u001b[39margs, \u001b[39m*\u001b[39m\u001b[39m*\u001b[39mkwargs):\n\u001b[0;32m    643\u001b[0m     pargs \u001b[39m=\u001b[39m _check_args(args, kwargs)\n\u001b[1;32m--> 644\u001b[0m     \u001b[39mreturn\u001b[39;00m func(args[\u001b[39m0\u001b[39;49m], \u001b[39m*\u001b[39;49m\u001b[39m*\u001b[39;49mpargs)\n",
      "File \u001b[1;32mc:\\Users\\juans\\anaconda3\\envs\\analysis\\Lib\\site-packages\\pynwb\\__init__.py:304\u001b[0m, in \u001b[0;36mNWBHDF5IO.read\u001b[1;34m(self, **kwargs)\u001b[0m\n\u001b[0;32m    301\u001b[0m         \u001b[39mraise\u001b[39;00m \u001b[39mTypeError\u001b[39;00m(\u001b[39m\"\u001b[39m\u001b[39mNWB version \u001b[39m\u001b[39m%s\u001b[39;00m\u001b[39m not supported. PyNWB supports NWB files version 2 and above.\u001b[39m\u001b[39m\"\u001b[39m \u001b[39m%\u001b[39m\n\u001b[0;32m    302\u001b[0m                         \u001b[39mstr\u001b[39m(file_version_str))\n\u001b[0;32m    303\u001b[0m \u001b[39m# read the file\u001b[39;00m\n\u001b[1;32m--> 304\u001b[0m file \u001b[39m=\u001b[39m \u001b[39msuper\u001b[39;49m()\u001b[39m.\u001b[39;49mread(\u001b[39m*\u001b[39;49m\u001b[39m*\u001b[39;49mkwargs)\n\u001b[0;32m    305\u001b[0m \u001b[39mreturn\u001b[39;00m file\n",
      "File \u001b[1;32mc:\\Users\\juans\\anaconda3\\envs\\analysis\\Lib\\site-packages\\hdmf\\backends\\hdf5\\h5tools.py:482\u001b[0m, in \u001b[0;36mHDF5IO.read\u001b[1;34m(self, **kwargs)\u001b[0m\n\u001b[0;32m    480\u001b[0m \u001b[39mexcept\u001b[39;00m UnsupportedOperation \u001b[39mas\u001b[39;00m e:\n\u001b[0;32m    481\u001b[0m     \u001b[39mif\u001b[39;00m \u001b[39mstr\u001b[39m(e) \u001b[39m==\u001b[39m \u001b[39m'\u001b[39m\u001b[39mCannot build data. There are no values.\u001b[39m\u001b[39m'\u001b[39m:  \u001b[39m# pragma: no cover\u001b[39;00m\n\u001b[1;32m--> 482\u001b[0m         \u001b[39mraise\u001b[39;00m UnsupportedOperation(\u001b[39m\"\u001b[39m\u001b[39mCannot read data from file \u001b[39m\u001b[39m%s\u001b[39;00m\u001b[39m in mode \u001b[39m\u001b[39m'\u001b[39m\u001b[39m%s\u001b[39;00m\u001b[39m'\u001b[39m\u001b[39m. There are no values.\u001b[39m\u001b[39m\"\u001b[39m\n\u001b[0;32m    483\u001b[0m                                    \u001b[39m%\u001b[39m (\u001b[39mself\u001b[39m\u001b[39m.\u001b[39msource, \u001b[39mself\u001b[39m\u001b[39m.\u001b[39m__mode))\n",
      "\u001b[1;31mUnsupportedOperation\u001b[0m: Cannot read data from file C:\\Users\\juans\\github\\color_and_form\\data\\C140\\C140.nwb in mode 'r'. There are no values."
     ]
    }
   ],
   "source": [
    "io = pynwb.NWBHDF5IO(nwb_path, mode='r')\n",
    "nwb = io.read(skip_version_check=True)"
   ]
  },
  {
   "cell_type": "code",
   "execution_count": null,
   "metadata": {},
   "outputs": [],
   "source": []
  }
 ],
 "metadata": {
  "kernelspec": {
   "display_name": "analysis",
   "language": "python",
   "name": "python3"
  },
  "language_info": {
   "codemirror_mode": {
    "name": "ipython",
    "version": 3
   },
   "file_extension": ".py",
   "mimetype": "text/x-python",
   "name": "python",
   "nbconvert_exporter": "python",
   "pygments_lexer": "ipython3",
   "version": "3.11.4"
  },
  "orig_nbformat": 4
 },
 "nbformat": 4,
 "nbformat_minor": 2
}
