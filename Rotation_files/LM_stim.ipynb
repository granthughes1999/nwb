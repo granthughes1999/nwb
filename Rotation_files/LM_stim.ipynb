{
 "cells": [
  {
   "cell_type": "code",
   "execution_count": 1,
   "id": "327c1fa0-c022-42e0-a6c5-78a7872c5c1d",
   "metadata": {},
   "outputs": [
    {
     "name": "stdout",
     "output_type": "stream",
     "text": [
      "Collecting denmanlab\n",
      "  Downloading denmanlab-0.3.tar.gz (111 kB)\n",
      "\u001b[2K     \u001b[90m━━━━━━━━━━━━━━━━━━━━━━━━━━━━━━━━━━━━━━━\u001b[0m \u001b[32m111.3/111.3 kB\u001b[0m \u001b[31m7.5 MB/s\u001b[0m eta \u001b[36m0:00:00\u001b[0m\n",
      "\u001b[?25h  Preparing metadata (setup.py) ... \u001b[?25ldone\n",
      "\u001b[?25hRequirement already satisfied: scipy in /Users/grant/opt/anaconda3/lib/python3.9/site-packages (from denmanlab) (1.11.1)\n",
      "Requirement already satisfied: matplotlib in /Users/grant/opt/anaconda3/lib/python3.9/site-packages (from denmanlab) (3.4.2)\n",
      "Requirement already satisfied: numpy in /Users/grant/opt/anaconda3/lib/python3.9/site-packages (from denmanlab) (1.24.3)\n",
      "Requirement already satisfied: pandas in /Users/grant/opt/anaconda3/lib/python3.9/site-packages (from denmanlab) (1.5.1)\n",
      "Requirement already satisfied: scikit-learn in /Users/grant/opt/anaconda3/lib/python3.9/site-packages (from denmanlab) (1.2.2)\n",
      "Requirement already satisfied: cycler>=0.10 in /Users/grant/opt/anaconda3/lib/python3.9/site-packages (from matplotlib->denmanlab) (0.11.0)\n",
      "Requirement already satisfied: kiwisolver>=1.0.1 in /Users/grant/opt/anaconda3/lib/python3.9/site-packages (from matplotlib->denmanlab) (1.4.4)\n",
      "Requirement already satisfied: pillow>=6.2.0 in /Users/grant/opt/anaconda3/lib/python3.9/site-packages (from matplotlib->denmanlab) (9.4.0)\n",
      "Requirement already satisfied: pyparsing>=2.2.1 in /Users/grant/opt/anaconda3/lib/python3.9/site-packages (from matplotlib->denmanlab) (3.0.9)\n",
      "Requirement already satisfied: python-dateutil>=2.7 in /Users/grant/opt/anaconda3/lib/python3.9/site-packages (from matplotlib->denmanlab) (2.8.2)\n",
      "Requirement already satisfied: pytz>=2020.1 in /Users/grant/opt/anaconda3/lib/python3.9/site-packages (from pandas->denmanlab) (2022.7)\n",
      "Requirement already satisfied: joblib>=1.1.1 in /Users/grant/opt/anaconda3/lib/python3.9/site-packages (from scikit-learn->denmanlab) (1.2.0)\n",
      "Requirement already satisfied: threadpoolctl>=2.0.0 in /Users/grant/opt/anaconda3/lib/python3.9/site-packages (from scikit-learn->denmanlab) (2.2.0)\n",
      "Requirement already satisfied: six>=1.5 in /Users/grant/opt/anaconda3/lib/python3.9/site-packages (from python-dateutil>=2.7->matplotlib->denmanlab) (1.16.0)\n",
      "Building wheels for collected packages: denmanlab\n",
      "  Building wheel for denmanlab (setup.py) ... \u001b[?25ldone\n",
      "\u001b[?25h  Created wheel for denmanlab: filename=denmanlab-0.3-py3-none-any.whl size=123623 sha256=f8a97d964d1edc010824c487da9674e709efd66dc53fb3759aa9ce0a0f471487\n",
      "  Stored in directory: /Users/grant/Library/Caches/pip/wheels/2c/62/b2/2053543a922ac9dfb65dfe8ba62bacdf129b7173a76b5c57bf\n",
      "Successfully built denmanlab\n",
      "Installing collected packages: denmanlab\n",
      "Successfully installed denmanlab-0.3\n",
      "Note: you may need to restart the kernel to use updated packages.\n"
     ]
    }
   ],
   "source": [
    "pip install denmanlab"
   ]
  },
  {
   "cell_type": "code",
   "execution_count": 2,
   "id": "e2f3973d-812e-4ba3-b834-7562bb262c53",
   "metadata": {},
   "outputs": [
    {
     "name": "stdout",
     "output_type": "stream",
     "text": [
      "Intel MKL WARNING: Support of Intel(R) Streaming SIMD Extensions 4.2 (Intel(R) SSE4.2) enabled only processors has been deprecated. Intel oneAPI Math Kernel Library 2025.0 will require Intel(R) Advanced Vector Extensions (Intel(R) AVX) instructions.\n",
      "Intel MKL WARNING: Support of Intel(R) Streaming SIMD Extensions 4.2 (Intel(R) SSE4.2) enabled only processors has been deprecated. Intel oneAPI Math Kernel Library 2025.0 will require Intel(R) Advanced Vector Extensions (Intel(R) AVX) instructions.\n"
     ]
    }
   ],
   "source": [
    "import numpy as np\n",
    "import pandas as pd\n",
    "import matplotlib.pyplot as plt\n",
    "import seaborn as sns\n",
    "import h5py\n",
    "import os,sys,glob, json\n",
    "import _pickle as pkl\n",
    "import dlab\n",
    "from tqdm.notebook import tqdm\n",
    "%matplotlib inline\n",
    "%load_ext autoreload\n",
    "%autoreload 2\n",
    "plt.style.use('dark_background')"
   ]
  },
  {
   "cell_type": "code",
   "execution_count": 3,
   "id": "21dac9c3-860d-4e34-8a03-2dba015a58f5",
   "metadata": {},
   "outputs": [],
   "source": [
    "import matplotlib \n",
    "matplotlib.rcParams.update({'figure.max_open_warning': 0})"
   ]
  },
  {
   "cell_type": "markdown",
   "id": "454bc963",
   "metadata": {},
   "source": [
    "change experiment metadata to match yours here:"
   ]
  },
  {
   "cell_type": "code",
   "execution_count": 6,
   "id": "5aa242e0-fe1e-4edd-81b5-3e1980db28b8",
   "metadata": {},
   "outputs": [],
   "source": [
    "recording_folder = '/Volumes/s2/V1_LM/eOPN3_046/2023-08-01_11-40-19_EOPN3_046/'\n",
    "\n",
    "experimenter = 'djd'\n",
    "experiment_description= 'Denman Lab, University of Colorado Anschutz. Test of eArch axon silencing in V1'\n",
    "\n",
    "# #spikeglx\n",
    "# probes = [os.path.basename(f) for f in np.sort(glob.glob(recording_folder+'/*-AP*'))]\n",
    "\n",
    "probeids = ['A','B','C'] \n",
    "probedepths = [1058,1035,3450] "
   ]
  },
  {
   "cell_type": "code",
   "execution_count": 5,
   "id": "7b7f67da-fe68-4c74-8eb5-af2abdcdf744",
   "metadata": {},
   "outputs": [
    {
     "data": {
      "text/plain": [
       "[]"
      ]
     },
     "execution_count": 5,
     "metadata": {},
     "output_type": "execute_result"
    }
   ],
   "source": [
    "probes"
   ]
  },
  {
   "cell_type": "markdown",
   "id": "2c149b27",
   "metadata": {},
   "source": [
    "## stimulus time parsing\n",
    "load timestamps from the sync channels of the recording"
   ]
  },
  {
   "cell_type": "code",
   "execution_count": 13,
   "id": "15b37e24-14b9-4907-9c1e-e4afe4d62a56",
   "metadata": {},
   "outputs": [],
   "source": [
    "from open_ephys.analysis import Session\n",
    "\n",
    "directory = recording_folder # for example\n",
    "\n",
    "session = Session(directory)"
   ]
  },
  {
   "cell_type": "code",
   "execution_count": 14,
   "id": "26b63fe5-1ef8-40ed-90fe-d54da4c470f8",
   "metadata": {},
   "outputs": [],
   "source": [
    "events_df = pd.DataFrame(session.recordnodes[0].recordings[0].events)#"
   ]
  },
  {
   "cell_type": "code",
   "execution_count": 15,
   "id": "18e12e66-672d-411c-b1fc-cf26c9b9657a",
   "metadata": {},
   "outputs": [],
   "source": [
    "ni_df = events_df[events_df.stream_name == 'PXI-6133' ]"
   ]
  },
  {
   "cell_type": "code",
   "execution_count": 16,
   "id": "9c367371-a43c-4204-b8ef-09d01423c0b2",
   "metadata": {},
   "outputs": [
    {
     "data": {
      "text/html": [
       "<div>\n",
       "<style scoped>\n",
       "    .dataframe tbody tr th:only-of-type {\n",
       "        vertical-align: middle;\n",
       "    }\n",
       "\n",
       "    .dataframe tbody tr th {\n",
       "        vertical-align: top;\n",
       "    }\n",
       "\n",
       "    .dataframe thead th {\n",
       "        text-align: right;\n",
       "    }\n",
       "</style>\n",
       "<table border=\"1\" class=\"dataframe\">\n",
       "  <thead>\n",
       "    <tr style=\"text-align: right;\">\n",
       "      <th></th>\n",
       "      <th>line</th>\n",
       "      <th>sample_number</th>\n",
       "      <th>timestamp</th>\n",
       "      <th>processor_id</th>\n",
       "      <th>stream_index</th>\n",
       "      <th>stream_name</th>\n",
       "      <th>state</th>\n",
       "    </tr>\n",
       "  </thead>\n",
       "  <tbody>\n",
       "    <tr>\n",
       "      <th>2</th>\n",
       "      <td>8</td>\n",
       "      <td>4408859</td>\n",
       "      <td>146.647767</td>\n",
       "      <td>101</td>\n",
       "      <td>6</td>\n",
       "      <td>PXI-6133</td>\n",
       "      <td>0</td>\n",
       "    </tr>\n",
       "    <tr>\n",
       "      <th>11</th>\n",
       "      <td>8</td>\n",
       "      <td>4423874</td>\n",
       "      <td>147.148267</td>\n",
       "      <td>101</td>\n",
       "      <td>6</td>\n",
       "      <td>PXI-6133</td>\n",
       "      <td>1</td>\n",
       "    </tr>\n",
       "    <tr>\n",
       "      <th>16</th>\n",
       "      <td>8</td>\n",
       "      <td>4438889</td>\n",
       "      <td>147.648767</td>\n",
       "      <td>101</td>\n",
       "      <td>6</td>\n",
       "      <td>PXI-6133</td>\n",
       "      <td>0</td>\n",
       "    </tr>\n",
       "    <tr>\n",
       "      <th>26</th>\n",
       "      <td>8</td>\n",
       "      <td>4453904</td>\n",
       "      <td>148.149276</td>\n",
       "      <td>101</td>\n",
       "      <td>6</td>\n",
       "      <td>PXI-6133</td>\n",
       "      <td>1</td>\n",
       "    </tr>\n",
       "    <tr>\n",
       "      <th>28</th>\n",
       "      <td>8</td>\n",
       "      <td>4468919</td>\n",
       "      <td>148.649757</td>\n",
       "      <td>101</td>\n",
       "      <td>6</td>\n",
       "      <td>PXI-6133</td>\n",
       "      <td>0</td>\n",
       "    </tr>\n",
       "    <tr>\n",
       "      <th>...</th>\n",
       "      <td>...</td>\n",
       "      <td>...</td>\n",
       "      <td>...</td>\n",
       "      <td>...</td>\n",
       "      <td>...</td>\n",
       "      <td>...</td>\n",
       "      <td>...</td>\n",
       "    </tr>\n",
       "    <tr>\n",
       "      <th>472782</th>\n",
       "      <td>3</td>\n",
       "      <td>111833927</td>\n",
       "      <td>3727.483367</td>\n",
       "      <td>101</td>\n",
       "      <td>6</td>\n",
       "      <td>PXI-6133</td>\n",
       "      <td>1</td>\n",
       "    </tr>\n",
       "    <tr>\n",
       "      <th>472783</th>\n",
       "      <td>3</td>\n",
       "      <td>111834406</td>\n",
       "      <td>3727.499333</td>\n",
       "      <td>101</td>\n",
       "      <td>6</td>\n",
       "      <td>PXI-6133</td>\n",
       "      <td>0</td>\n",
       "    </tr>\n",
       "    <tr>\n",
       "      <th>472784</th>\n",
       "      <td>3</td>\n",
       "      <td>111834443</td>\n",
       "      <td>3727.500567</td>\n",
       "      <td>101</td>\n",
       "      <td>6</td>\n",
       "      <td>PXI-6133</td>\n",
       "      <td>1</td>\n",
       "    </tr>\n",
       "    <tr>\n",
       "      <th>472785</th>\n",
       "      <td>3</td>\n",
       "      <td>111834890</td>\n",
       "      <td>3727.515467</td>\n",
       "      <td>101</td>\n",
       "      <td>6</td>\n",
       "      <td>PXI-6133</td>\n",
       "      <td>0</td>\n",
       "    </tr>\n",
       "    <tr>\n",
       "      <th>472786</th>\n",
       "      <td>3</td>\n",
       "      <td>111834928</td>\n",
       "      <td>3727.516733</td>\n",
       "      <td>101</td>\n",
       "      <td>6</td>\n",
       "      <td>PXI-6133</td>\n",
       "      <td>1</td>\n",
       "    </tr>\n",
       "  </tbody>\n",
       "</table>\n",
       "<p>429857 rows × 7 columns</p>\n",
       "</div>"
      ],
      "text/plain": [
       "        line  sample_number    timestamp  processor_id  stream_index  \\\n",
       "2          8        4408859   146.647767           101             6   \n",
       "11         8        4423874   147.148267           101             6   \n",
       "16         8        4438889   147.648767           101             6   \n",
       "26         8        4453904   148.149276           101             6   \n",
       "28         8        4468919   148.649757           101             6   \n",
       "...      ...            ...          ...           ...           ...   \n",
       "472782     3      111833927  3727.483367           101             6   \n",
       "472783     3      111834406  3727.499333           101             6   \n",
       "472784     3      111834443  3727.500567           101             6   \n",
       "472785     3      111834890  3727.515467           101             6   \n",
       "472786     3      111834928  3727.516733           101             6   \n",
       "\n",
       "       stream_name  state  \n",
       "2         PXI-6133      0  \n",
       "11        PXI-6133      1  \n",
       "16        PXI-6133      0  \n",
       "26        PXI-6133      1  \n",
       "28        PXI-6133      0  \n",
       "...            ...    ...  \n",
       "472782    PXI-6133      1  \n",
       "472783    PXI-6133      0  \n",
       "472784    PXI-6133      1  \n",
       "472785    PXI-6133      0  \n",
       "472786    PXI-6133      1  \n",
       "\n",
       "[429857 rows x 7 columns]"
      ]
     },
     "execution_count": 16,
     "metadata": {},
     "output_type": "execute_result"
    }
   ],
   "source": [
    "ni_df"
   ]
  },
  {
   "cell_type": "code",
   "execution_count": 17,
   "id": "710af6c9-a3c6-4ed2-8880-b7d43d662925",
   "metadata": {},
   "outputs": [],
   "source": [
    "ni_ts = {}\n",
    "df_up = ni_df[ni_df.state==1]\n",
    "for ch in ni_df.line.unique():\n",
    "    ni_ts[ch] = df_up[df_up.line == ch].timestamp"
   ]
  },
  {
   "cell_type": "code",
   "execution_count": 26,
   "id": "31e213fc-15ff-4c33-b114-23236b9eb07f",
   "metadata": {},
   "outputs": [
    {
     "data": {
      "text/plain": [
       "<matplotlib.legend.Legend at 0x7f84dbff6310>"
      ]
     },
     "execution_count": 26,
     "metadata": {},
     "output_type": "execute_result"
    },
    {
     "data": {
      "image/png": "[encoded data removed]",
      "text/plain": [
       "<Figure size 432x288 with 1 Axes>"
      ]
     },
     "metadata": {},
     "output_type": "display_data"
    }
   ],
   "source": [
    "for ch in ([1,2,3,4,5,8]):\n",
    "    plt.plot(np.array(ni_ts[ch]),\n",
    "             np.ones(len(ni_ts[ch]))*ch,\n",
    "             '|',label=ch)\n",
    "plt.legend()"
   ]
  },
  {
   "cell_type": "markdown",
   "id": "70b47cc8",
   "metadata": {},
   "source": [
    "this cell likely change for each stimulus script, but should be the roughly same for different experiments with the same stimulus script. This one is for the `V1_LM.py`` stimulus script"
   ]
  },
  {
   "cell_type": "code",
   "execution_count": 42,
   "id": "d10386f8-4056-445e-8ef7-4db136cc277d",
   "metadata": {
    "tags": []
   },
   "outputs": [],
   "source": [
    "# eye_camera_frame_times = ni_ts[7]\n",
    "opto_df = ni_df[ni_df.line==5]\n",
    "opto_off_times = opto_df[opto_df.state==0].timestamp\n",
    "opto_on_times = opto_df[opto_df.state==1].timestamp\n",
    "df_flash = ni_df[ni_df.line==3]\n",
    "flash_times = df_flash[df_flash.state==1].timestamp[:100]#first 100 are flash onset\n",
    "df_gratings = ni_df[ni_df.line==2]\n",
    "gratings_times = df_gratings[df_gratings.state==1].timestamp[1:241]\n",
    "df_strf = ni_df[ni_df.line==4]\n",
    "arbMatrix_times = df_strf[df_strf.state==1].timestamp[:-1]"
   ]
  },
  {
   "cell_type": "markdown",
   "id": "e000e611",
   "metadata": {},
   "source": [
    "make sure to check all of the `_times` in the above cell to make sure they have the correct number of times with the correct approximate spacing between each (for example, between each trial for gratings or between in each frame for arbMatrix)"
   ]
  },
  {
   "cell_type": "code",
   "execution_count": 54,
   "id": "450357c5-77a7-41fa-9e7c-61bf34c52402",
   "metadata": {},
   "outputs": [
    {
     "data": {
      "text/plain": [
       "309     168.185200\n",
       "311     168.185333\n",
       "874     208.249214\n",
       "879     208.251480\n",
       "925     211.247600\n",
       "1147    226.262467\n",
       "1237    232.267800\n",
       "1327    238.273967\n",
       "1461    247.282567\n",
       "1507    250.284833\n",
       "1553    253.287933\n",
       "1643    259.292684\n",
       "1689    262.311767\n",
       "1735    265.317100\n",
       "1781    268.318567\n",
       "1827    271.321867\n",
       "1873    274.324818\n",
       "1919    277.326733\n",
       "2009    283.332885\n",
       "2055    286.336233\n",
       "2233    298.346281\n",
       "2279    301.349600\n",
       "2325    304.352800\n",
       "2415    310.356567\n",
       "2549    319.366533\n",
       "2595    322.368446\n",
       "2641    325.371333\n",
       "2687    328.373633\n",
       "2777    334.379133\n",
       "2867    340.385400\n",
       "2913    343.388867\n",
       "2959    346.391423\n",
       "3005    349.393467\n",
       "3051    352.396233\n",
       "3097    355.398833\n",
       "3143    358.401767\n",
       "3189    361.411433\n",
       "3279    367.427657\n",
       "3369    373.432800\n",
       "3459    379.438433\n",
       "3593    388.447067\n",
       "3639    391.450033\n",
       "3685    394.452826\n",
       "3731    397.456800\n",
       "3777    400.458233\n",
       "3911    409.466733\n",
       "3957    412.469567\n",
       "4047    418.475294\n",
       "4269    433.489367\n",
       "4315    436.492400\n",
       "4361    439.495567\n",
       "4495    448.503533\n",
       "4585    454.509167\n",
       "4763    466.520600\n",
       "4809    469.523367\n",
       "4855    472.526433\n",
       "4989    481.534700\n",
       "5035    484.537500\n",
       "5125    490.543167\n",
       "5171    493.546167\n",
       "Name: timestamp, dtype: float64"
      ]
     },
     "execution_count": 54,
     "metadata": {},
     "output_type": "execute_result"
    }
   ],
   "source": [
    "opto_on_times[:60]"
   ]
  },
  {
   "cell_type": "code",
   "execution_count": 50,
   "id": "3d563f11-3c7e-439e-b5b4-4f6ec2adabd6",
   "metadata": {},
   "outputs": [
    {
     "data": {
      "text/plain": [
       "880     208.267414\n",
       "926     211.263967\n",
       "971     214.266167\n",
       "1015    217.268867\n",
       "1059    220.272833\n",
       "           ...    \n",
       "5172    493.562500\n",
       "5217    496.565633\n",
       "5261    499.568533\n",
       "5305    502.570933\n",
       "5349    505.573767\n",
       "Name: timestamp, Length: 100, dtype: float64"
      ]
     },
     "execution_count": 50,
     "metadata": {},
     "output_type": "execute_result"
    }
   ],
   "source": [
    "flash_times"
   ]
  },
  {
   "cell_type": "code",
   "execution_count": 43,
   "id": "90c5d7f9-2397-4b4e-a83b-9803e6ba05aa",
   "metadata": {},
   "outputs": [
    {
     "data": {
      "text/plain": [
       "[<matplotlib.lines.Line2D at 0x7f849c8fdf70>]"
      ]
     },
     "execution_count": 43,
     "metadata": {},
     "output_type": "execute_result"
    },
    {
     "data": {
      "image/png": "[encoded data removed]",
      "text/plain": [
       "<Figure size 432x288 with 1 Axes>"
      ]
     },
     "metadata": {},
     "output_type": "display_data"
    }
   ],
   "source": [
    "plt.plot(np.diff(gratings_times))"
   ]
  },
  {
   "cell_type": "code",
   "execution_count": 12,
   "id": "4ee3bbd7-59ec-4708-8ab1-6cd080b7123f",
   "metadata": {},
   "outputs": [],
   "source": [
    "stimuli_times = {'luminance_flash':flash_times,\n",
    "                 'gratings':gratings_times,\n",
    "                 'spatioluminance_noise':arbMatrix_times,\n",
    "                  }"
   ]
  },
  {
   "cell_type": "code",
   "execution_count": 13,
   "id": "09ed8c33-d15d-4c69-a5a7-76839bbb59ba",
   "metadata": {},
   "outputs": [],
   "source": [
    "gratings_pkl = pkl.load(open(glob.glob(stim_path+'/*gratings_o*')[0],'rb'))\n",
    "# gratings_color_pkl = pkl.load(open(glob.glob(stim_path+'/*gratings_c*')[0],'rb'))\n",
    "\n",
    "# arbMatrixcolor_pkl = pkl.load(open(glob.glob(stim_path+'/*color_*')[0],'rb'))\n",
    "# arbMatrix_pkl = pkl.load(open(glob.glob(stim_path+'/*highspeed*')[0],'rb'))\n",
    "arbMatrix_matrix = pkl.load(open(np.sort(glob.glob(stim_path+'/*'))[0],'rb'))\n",
    "# arbMatrix_pkl2 = pkl.load(open(glob.glob(stim_path+'/*highspeed*')[1],'rb'))\n",
    "# arbMatrix_matrix1 = pkl.load(open(np.sort(glob.glob(stim_path+'/*'))[1],'rb'))\n",
    "# sweeps = json.load(open(glob.glob(stim_path+'/*.json')[0],'rb'))\n",
    "#stimulus list\n",
    "stimuli = {'luminance_flash':None,\n",
    "           'gratings':gratings_pkl,\n",
    "            'spatioluminance_noise':arbMatrix_matrix,\n",
    "           } "
   ]
  },
  {
   "cell_type": "markdown",
   "id": "d6f8f027-f9e9-49ad-ba70-0dbf93928293",
   "metadata": {},
   "source": [
    "## Assemble NWB"
   ]
  },
  {
   "cell_type": "code",
   "execution_count": 14,
   "id": "9e06c51d-e2ea-4e3f-8e12-3122cfd5a4de",
   "metadata": {},
   "outputs": [],
   "source": [
    "import pynwb\n",
    "from hdmf.backends.hdf5.h5_utils import H5DataIO\n",
    "from hdmf.utils import StrDataset"
   ]
  },
  {
   "cell_type": "code",
   "execution_count": 106,
   "id": "1b954ec8-dc70-4cf7-9467-a200291e5394",
   "metadata": {},
   "outputs": [],
   "source": [
    "from datetime import datetime\n",
    "from dateutil.tz import tzlocal\n",
    "from pynwb import NWBFile\n",
    "\n",
    "nwbfile = NWBFile('Axon silencing with eArch3.0; ax11', \n",
    "                  recording_folder, \n",
    "                  datetime.now(tzlocal()),\n",
    "                  experimenter=experimenter,\n",
    "                  lab='Denman Lab',\n",
    "                  institution='University of Colorado',\n",
    "                  experiment_description=experiment_description,\n",
    "                  session_id=os.path.basename(recording_folder))"
   ]
  },
  {
   "cell_type": "markdown",
   "id": "8eee578f-8e9c-4562-93ca-ba16fc5e6abe",
   "metadata": {},
   "source": [
    "add stimulus information"
   ]
  },
  {
   "cell_type": "code",
   "execution_count": 108,
   "id": "7f5237a4-5d31-41f5-bfac-78823deda098",
   "metadata": {},
   "outputs": [],
   "source": [
    "for stim in stimuli_times.keys():\n",
    "    nwbfile.add_epoch(np.array(stimuli_times[stim])[0], \n",
    "                      np.array(stimuli_times[stim])[-1]+3.,\n",
    "                      [stim])"
   ]
  },
  {
   "cell_type": "code",
   "execution_count": 107,
   "id": "406147b3-f079-4046-9779-8b960ec02c33",
   "metadata": {},
   "outputs": [],
   "source": [
    "nwbfile.add_trial_column('stimulus', 'the stimulus during this trial')\n",
    "\n",
    "#optogenetics\n",
    "nwbfile.add_trial_column('optogenetics_LED_state',    'whether or not the LED was on or off for this trial. 1=on,0=off. exact opto times are available in ____ field of NWB')\n",
    "\n",
    "#flashCSD\n",
    "nwbfile.add_trial_column('flash_luminance', 'the luminance of the flash on this trial. 1=bright,0=dark')\n",
    "\n",
    "#gratings_orientation\n",
    "nwbfile.add_trial_column('contrast', 'index of each trial into a matrix of images')\n",
    "nwbfile.add_trial_column('temporal_frequency', 'index of each trial into a matrix of images')\n",
    "nwbfile.add_trial_column('spatial_frequency', 'index of each trial into a matrix of images')\n",
    "nwbfile.add_trial_column('orientation', 'index of each trial into a matrix of images')\n",
    "\n",
    "#arbMatrix\n",
    "nwbfile.add_trial_column('stimulus_index', 'index of each trial into a matrix of images')\n",
    "\n",
    "stim_vals = {'optogenetics_LED_state':-1,\n",
    "             'flash_luminance':-1,\n",
    "             'contrast':-1,\n",
    "             'temporal_frequency':-1,\n",
    "             'spatial_frequency':-1,\n",
    "             'orientation':-1,\n",
    "             'stimulus_index':-1,}\n",
    "\n",
    "lums = [0,1]#['white','black']\n",
    "stim = 'luminance_flash'\n",
    "for i,trial_start in enumerate(np.array(stimuli_times[stim])):\n",
    "    if np.min(np.abs(opto_on_times - trial_start)) < 0.4: opto_state=1\n",
    "    else: opto_state=0\n",
    "    nwbfile.add_trial(start_time=trial_start, stop_time=trial_start+np.mean(np.diff(stimuli_times[stim])), stimulus=stim,\n",
    "                      flash_luminance=lums[i%2],\n",
    "                      optogenetics_LED_state=opto_state,\n",
    "                      contrast = stim_vals['contrast'],\n",
    "                     temporal_frequency = stim_vals['temporal_frequency'],\n",
    "                     spatial_frequency = stim_vals['spatial_frequency'],\n",
    "                     orientation = stim_vals['orientation'],\n",
    "                      stimulus_index = stim_vals['stimulus_index'],\n",
    "                     )\n",
    "\n",
    "stim = 'gratings'\n",
    "info = [stimuli[stim]['bgsweeptable'][ind] for ind in stimuli[stim]['bgsweeporder']]\n",
    "for i,trial_start in enumerate(stimuli_times[stim]):\n",
    "    nwbfile.add_trial(start_time=trial_start, stop_time=trial_start+np.mean(np.diff(stimuli_times[stim])), stimulus=stim,\n",
    "                        flash_luminance = stim_vals['flash_luminance'],\n",
    "                      stimulus_index = stim_vals['stimulus_index'],\n",
    "                      contrast=info[i][0],\n",
    "                     temporal_frequency=info[i][2],\n",
    "                     spatial_frequency=info[i][3],\n",
    "                     orientation=info[i][-2],\n",
    "                     optogenetics_LED_state=info[i][-1])\n",
    "\n",
    "stim = 'spatioluminance_noise'\n",
    "for i,trial_start in enumerate(stimuli_times[stim]):\n",
    "    nwbfile.add_trial(start_time=trial_start, stop_time=trial_start+np.mean(np.diff(stimuli_times[stim])),stimulus=stim,\n",
    "                      flash_luminance = stim_vals['flash_luminance'],\n",
    "                      stimulus_index=i,\n",
    "                      contrast = stim_vals['contrast'],\n",
    "                     temporal_frequency = stim_vals['temporal_frequency'],\n",
    "                     spatial_frequency = stim_vals['spatial_frequency'],\n",
    "                     orientation = stim_vals['orientation'],\n",
    "                      optogenetics_LED_state = stim_vals['optogenetics_LED_state'])\n",
    "    \n",
    " # stim = 'gratings_color'\n",
    "# info = [stimuli[stim]['bgsweeptable'][ind] for ind in stimuli[stim]['bgsweeporder']]\n",
    "# for i,trial_start in enumerate(stimuli_times[stim]):\n",
    "#     nwbfile.add_trial(start_time=trial_start, stop_time=trial_start+np.mean(np.diff(stimuli_times[stim])), stimulus=stim,stimulus_info=[info[i]])\n",
    "\n",
    "# stim = 'sweeping_bar'\n",
    "# for i,trial_start in enumerate(stimuli_times[stim]):\n",
    "#     nwbfile.add_trial(start_time=trial_start, stop_time=trial_start+np.mean(np.diff(stimuli_times[stim])), stimulus=stim,stimulus_info=[list(stimuli[stim]['ori'].values())[i]])\n"
   ]
  },
  {
   "cell_type": "code",
   "execution_count": 98,
   "id": "9539ac61-8c73-49b4-b4ef-13eed47a913b",
   "metadata": {},
   "outputs": [
    {
     "data": {
      "text/html": [
       "<div>\n",
       "<style scoped>\n",
       "    .dataframe tbody tr th:only-of-type {\n",
       "        vertical-align: middle;\n",
       "    }\n",
       "\n",
       "    .dataframe tbody tr th {\n",
       "        vertical-align: top;\n",
       "    }\n",
       "\n",
       "    .dataframe thead th {\n",
       "        text-align: right;\n",
       "    }\n",
       "</style>\n",
       "<table border=\"1\" class=\"dataframe\">\n",
       "  <thead>\n",
       "    <tr style=\"text-align: right;\">\n",
       "      <th></th>\n",
       "      <th>start_time</th>\n",
       "      <th>stop_time</th>\n",
       "      <th>stimulus</th>\n",
       "      <th>optogenetics_LED_state</th>\n",
       "      <th>flash_luminance</th>\n",
       "      <th>contrast</th>\n",
       "      <th>temporal_frequency</th>\n",
       "      <th>spatial_frequency</th>\n",
       "      <th>orientation</th>\n",
       "      <th>stimulus_index</th>\n",
       "    </tr>\n",
       "    <tr>\n",
       "      <th>id</th>\n",
       "      <th></th>\n",
       "      <th></th>\n",
       "      <th></th>\n",
       "      <th></th>\n",
       "      <th></th>\n",
       "      <th></th>\n",
       "      <th></th>\n",
       "      <th></th>\n",
       "      <th></th>\n",
       "      <th></th>\n",
       "    </tr>\n",
       "  </thead>\n",
       "  <tbody>\n",
       "    <tr>\n",
       "      <th>0</th>\n",
       "      <td>8772.532871</td>\n",
       "      <td>8775.535713</td>\n",
       "      <td>luminance_flash</td>\n",
       "      <td>0</td>\n",
       "      <td>0</td>\n",
       "      <td>-1</td>\n",
       "      <td>-1</td>\n",
       "      <td>-1.0</td>\n",
       "      <td>-1</td>\n",
       "      <td>-1</td>\n",
       "    </tr>\n",
       "    <tr>\n",
       "      <th>1</th>\n",
       "      <td>8775.546567</td>\n",
       "      <td>8778.549409</td>\n",
       "      <td>luminance_flash</td>\n",
       "      <td>0</td>\n",
       "      <td>1</td>\n",
       "      <td>-1</td>\n",
       "      <td>-1</td>\n",
       "      <td>-1.0</td>\n",
       "      <td>-1</td>\n",
       "      <td>-1</td>\n",
       "    </tr>\n",
       "    <tr>\n",
       "      <th>2</th>\n",
       "      <td>8778.538233</td>\n",
       "      <td>8781.541075</td>\n",
       "      <td>luminance_flash</td>\n",
       "      <td>0</td>\n",
       "      <td>0</td>\n",
       "      <td>-1</td>\n",
       "      <td>-1</td>\n",
       "      <td>-1.0</td>\n",
       "      <td>-1</td>\n",
       "      <td>-1</td>\n",
       "    </tr>\n",
       "    <tr>\n",
       "      <th>3</th>\n",
       "      <td>8781.540867</td>\n",
       "      <td>8784.543709</td>\n",
       "      <td>luminance_flash</td>\n",
       "      <td>1</td>\n",
       "      <td>1</td>\n",
       "      <td>-1</td>\n",
       "      <td>-1</td>\n",
       "      <td>-1.0</td>\n",
       "      <td>-1</td>\n",
       "      <td>-1</td>\n",
       "    </tr>\n",
       "    <tr>\n",
       "      <th>4</th>\n",
       "      <td>8784.543867</td>\n",
       "      <td>8787.546709</td>\n",
       "      <td>luminance_flash</td>\n",
       "      <td>0</td>\n",
       "      <td>0</td>\n",
       "      <td>-1</td>\n",
       "      <td>-1</td>\n",
       "      <td>-1.0</td>\n",
       "      <td>-1</td>\n",
       "      <td>-1</td>\n",
       "    </tr>\n",
       "    <tr>\n",
       "      <th>...</th>\n",
       "      <td>...</td>\n",
       "      <td>...</td>\n",
       "      <td>...</td>\n",
       "      <td>...</td>\n",
       "      <td>...</td>\n",
       "      <td>...</td>\n",
       "      <td>...</td>\n",
       "      <td>...</td>\n",
       "      <td>...</td>\n",
       "      <td>...</td>\n",
       "    </tr>\n",
       "    <tr>\n",
       "      <th>14665</th>\n",
       "      <td>8614.984667</td>\n",
       "      <td>8615.034714</td>\n",
       "      <td>spatioluminance_noise</td>\n",
       "      <td>-1</td>\n",
       "      <td>-1</td>\n",
       "      <td>-1</td>\n",
       "      <td>-1</td>\n",
       "      <td>-1.0</td>\n",
       "      <td>-1</td>\n",
       "      <td>14395</td>\n",
       "    </tr>\n",
       "    <tr>\n",
       "      <th>14666</th>\n",
       "      <td>8615.034767</td>\n",
       "      <td>8615.084814</td>\n",
       "      <td>spatioluminance_noise</td>\n",
       "      <td>-1</td>\n",
       "      <td>-1</td>\n",
       "      <td>-1</td>\n",
       "      <td>-1</td>\n",
       "      <td>-1.0</td>\n",
       "      <td>-1</td>\n",
       "      <td>14396</td>\n",
       "    </tr>\n",
       "    <tr>\n",
       "      <th>14667</th>\n",
       "      <td>8615.084833</td>\n",
       "      <td>8615.134880</td>\n",
       "      <td>spatioluminance_noise</td>\n",
       "      <td>-1</td>\n",
       "      <td>-1</td>\n",
       "      <td>-1</td>\n",
       "      <td>-1</td>\n",
       "      <td>-1.0</td>\n",
       "      <td>-1</td>\n",
       "      <td>14397</td>\n",
       "    </tr>\n",
       "    <tr>\n",
       "      <th>14668</th>\n",
       "      <td>8615.133533</td>\n",
       "      <td>8615.183580</td>\n",
       "      <td>spatioluminance_noise</td>\n",
       "      <td>-1</td>\n",
       "      <td>-1</td>\n",
       "      <td>-1</td>\n",
       "      <td>-1</td>\n",
       "      <td>-1.0</td>\n",
       "      <td>-1</td>\n",
       "      <td>14398</td>\n",
       "    </tr>\n",
       "    <tr>\n",
       "      <th>14669</th>\n",
       "      <td>8615.183239</td>\n",
       "      <td>8615.233286</td>\n",
       "      <td>spatioluminance_noise</td>\n",
       "      <td>-1</td>\n",
       "      <td>-1</td>\n",
       "      <td>-1</td>\n",
       "      <td>-1</td>\n",
       "      <td>-1.0</td>\n",
       "      <td>-1</td>\n",
       "      <td>14399</td>\n",
       "    </tr>\n",
       "  </tbody>\n",
       "</table>\n",
       "<p>14670 rows × 10 columns</p>\n",
       "</div>"
      ],
      "text/plain": [
       "        start_time    stop_time               stimulus  \\\n",
       "id                                                       \n",
       "0      8772.532871  8775.535713        luminance_flash   \n",
       "1      8775.546567  8778.549409        luminance_flash   \n",
       "2      8778.538233  8781.541075        luminance_flash   \n",
       "3      8781.540867  8784.543709        luminance_flash   \n",
       "4      8784.543867  8787.546709        luminance_flash   \n",
       "...            ...          ...                    ...   \n",
       "14665  8614.984667  8615.034714  spatioluminance_noise   \n",
       "14666  8615.034767  8615.084814  spatioluminance_noise   \n",
       "14667  8615.084833  8615.134880  spatioluminance_noise   \n",
       "14668  8615.133533  8615.183580  spatioluminance_noise   \n",
       "14669  8615.183239  8615.233286  spatioluminance_noise   \n",
       "\n",
       "       optogenetics_LED_state  flash_luminance  contrast  temporal_frequency  \\\n",
       "id                                                                             \n",
       "0                           0                0        -1                  -1   \n",
       "1                           0                1        -1                  -1   \n",
       "2                           0                0        -1                  -1   \n",
       "3                           1                1        -1                  -1   \n",
       "4                           0                0        -1                  -1   \n",
       "...                       ...              ...       ...                 ...   \n",
       "14665                      -1               -1        -1                  -1   \n",
       "14666                      -1               -1        -1                  -1   \n",
       "14667                      -1               -1        -1                  -1   \n",
       "14668                      -1               -1        -1                  -1   \n",
       "14669                      -1               -1        -1                  -1   \n",
       "\n",
       "       spatial_frequency  orientation  stimulus_index  \n",
       "id                                                     \n",
       "0                   -1.0           -1              -1  \n",
       "1                   -1.0           -1              -1  \n",
       "2                   -1.0           -1              -1  \n",
       "3                   -1.0           -1              -1  \n",
       "4                   -1.0           -1              -1  \n",
       "...                  ...          ...             ...  \n",
       "14665               -1.0           -1           14395  \n",
       "14666               -1.0           -1           14396  \n",
       "14667               -1.0           -1           14397  \n",
       "14668               -1.0           -1           14398  \n",
       "14669               -1.0           -1           14399  \n",
       "\n",
       "[14670 rows x 10 columns]"
      ]
     },
     "execution_count": 98,
     "metadata": {},
     "output_type": "execute_result"
    }
   ],
   "source": [
    "nwbfile.trials.to_dataframe()"
   ]
  },
  {
   "cell_type": "markdown",
   "id": "6afb8069-041e-4c1a-9be5-9b4aab991816",
   "metadata": {},
   "source": [
    "## add optogenetics"
   ]
  },
  {
   "cell_type": "code",
   "execution_count": 109,
   "id": "1a60ea1e-fc3c-4d46-8fb9-c1c8b29cbf2e",
   "metadata": {},
   "outputs": [
    {
     "data": {
      "text/plain": [
       "161"
      ]
     },
     "execution_count": 109,
     "metadata": {},
     "output_type": "execute_result"
    }
   ],
   "source": [
    "np.array(opto_off_times).shape[0]"
   ]
  },
  {
   "cell_type": "code",
   "execution_count": 110,
   "id": "8500243c-0ad7-4219-b5b9-9a543cc912a1",
   "metadata": {},
   "outputs": [
    {
     "data": {
      "text/plain": [
       "optogenetics_states pynwb.epoch.TimeIntervals at 0x140181767651088\n",
       "Fields:\n",
       "  colnames: ['start_time' 'stop_time' 'power' 'wavelength']\n",
       "  columns: (\n",
       "    start_time <class 'hdmf.common.table.VectorData'>,\n",
       "    stop_time <class 'hdmf.common.table.VectorData'>,\n",
       "    power <class 'hdmf.common.table.VectorData'>,\n",
       "    wavelength <class 'hdmf.common.table.VectorData'>\n",
       "  )\n",
       "  description: intervals for optical fiber, fiber at power = 1.5AU on cyclops driver. fiber 565nm, \n",
       "  id: id <class 'hdmf.common.table.ElementIdentifiers'>"
      ]
     },
     "execution_count": 110,
     "metadata": {},
     "output_type": "execute_result"
    }
   ],
   "source": [
    "opto_states = pynwb.epoch.TimeIntervals(\n",
    "    name=\"optogenetics_states\",\n",
    "    description=\"intervals for optical fiber, fiber at power = 1.5AU on cyclops driver. fiber 565nm, \",\n",
    ")\n",
    "opto_states.add_column(name=\"power\", description=\"power of fiber\")\n",
    "opto_states.add_column(name=\"wavelength\", description=\"wavelength of light\")\n",
    "\n",
    "for i in range(np.array(opto_off_times).shape[0]):\n",
    "    opto_states.add_row(start_time=np.array(opto_on_times)[i], stop_time=np.array(opto_off_times)[i], power=1.5, wavelength=565)\n",
    "\n",
    "nwbfile.add_time_intervals(opto_states)"
   ]
  },
  {
   "cell_type": "markdown",
   "id": "7e120cac-6b74-4aee-be80-bb26614b9eb9",
   "metadata": {},
   "source": [
    "### add ephys data\n",
    "first add electrodes and raw data link"
   ]
  },
  {
   "cell_type": "code",
   "execution_count": 111,
   "id": "d3d41244-8f01-4025-96ed-f4f560ce475d",
   "metadata": {},
   "outputs": [],
   "source": [
    "from dlab.nwbtools import df_from_phy, load_phy_template, option234_positions, multi_load_unit_data\n"
   ]
  },
  {
   "cell_type": "code",
   "execution_count": 112,
   "id": "ddd28c6b-a17e-4d02-807b-41852e6923be",
   "metadata": {},
   "outputs": [
    {
     "name": "stderr",
     "output_type": "stream",
     "text": [
      "/Users/danieldenman/opt/anaconda3/lib/python3.9/site-packages/dlab/nwbtools.py:487: RuntimeWarning: invalid value encountered in true_divide\n",
      "  weights = weights/np.max(weights)\n"
     ]
    }
   ],
   "source": [
    "df_units = multi_load_unit_data(recording_folder,probe_depths=probedepths)"
   ]
  },
  {
   "cell_type": "code",
   "execution_count": 113,
   "id": "912429f1-97c2-498f-814b-eb0a832f7e2f",
   "metadata": {},
   "outputs": [],
   "source": [
    "locations = ['VISp','VISl','VISa;CA1;DG;LP']\n",
    "descriptions = ['Neuropixels1.0','NeuropixelsUltraAlpha','Neuropixels1.0'] "
   ]
  },
  {
   "cell_type": "code",
   "execution_count": 114,
   "id": "fd5dee5d-b54d-46de-ba92-5772ed9ab961",
   "metadata": {},
   "outputs": [],
   "source": [
    "device = nwbfile.create_device(name='DenmanLab_EphysRig1')\n",
    "\n",
    "for i, probe in enumerate(probes):\n",
    "    electrode_name = 'probe'+str(i)\n",
    "    description = descriptions[i]\n",
    "    location = locations[i]\n",
    "\n",
    "    electrode_group = nwbfile.create_electrode_group(electrode_name,\n",
    "                                                     description=description,\n",
    "                                                     location=location,\n",
    "                                                     device=device)\n",
    "    for ch in range(option234_positions.shape[0]):\n",
    "        nwbfile.add_electrode(x=option234_positions[ch,0],y=0.,z=option234_positions[0,1],imp=0.0,location='none',filtering='high pass 300Hz',group=electrode_group)\n",
    "    \n",
    "#     if len(glob.glob(os.path.join(recording_folder,probes[1])+'/*lf.b*')) > 0:\n",
    "#         ephys_ts = pynwb.ecephys.ElectricalSeries('lfp_probe'+probeids[i],\n",
    "#                                 data=H5DataIO(data=StrDataset(glob.glob(os.path.join(recording_folder,probes[1])+'/*lf.b*')[0]),    \n",
    "#                                         link_data=True),\n",
    "#                                 electrodes = electrode_group,\n",
    "#                                 starting_time=0,\n",
    "#                                 rate=2500,\n",
    "#                                 resolution=0.001,\n",
    "#                                 comments=\"V1, depth = 1500um\",\n",
    "#                                 description=\"V1, depth = 1500um\")\n",
    "#         nwbfile.add_acquisition(ephys_ts)"
   ]
  },
  {
   "cell_type": "code",
   "execution_count": 115,
   "id": "e2720703-2d68-4ee8-a4a7-1f44a8b365ce",
   "metadata": {},
   "outputs": [],
   "source": [
    "# nwbfile.add_unit_column('location', 'the anatomical location of this unit')\n",
    "# nwbfile.add_unit_column('quality', 'the quality for the inference of this unit')\n",
    "# nwbfile.add_unit_column('quality_ISIviolations', 'the quality for the inference of this unit')\n",
    "# nwbfile.add_unit_column('quality_sn', 'the quality for the inference of this unit')\n",
    "# nwbfile.add_unit_column('quality_distance', 'the quality for the inference of this unit')\n",
    "\n",
    "nwbfile.add_unit_column('depth', 'the depth of this unit from the pia')\n",
    "nwbfile.add_unit_column('xpos', 'the x position on probe')\n",
    "nwbfile.add_unit_column('ypos', 'the y position on probe')\n",
    "# nwbfile.add_unit_column('template', 'Kilosort template')\n",
    "nwbfile.add_unit_column('label', 'user label')\n",
    "nwbfile.add_unit_column('KSlabel', 'Kilosort label')\n",
    "nwbfile.add_unit_column('KSamplitude', 'Kilosort amplitude')\n",
    "nwbfile.add_unit_column('KScontamination', 'Kilosort ISI contamination')\n",
    "nwbfile.add_unit_column('probe', 'probe ID')\n",
    "\n",
    "labels =np.array(['noise','mua','good'])\n",
    "\n",
    "for i,unit_row in df_units.iterrows():\n",
    "    try: lbl = np.argwhere(unit_row.group==labels)[0][0]\n",
    "    except: lbl=0\n",
    "    try: klbl = np.argwhere(unit_row.KSlabel==labels)[0][0]\n",
    "    except: klbl=0\n",
    "    nwbfile.add_unit(id=int(unit_row.name), \n",
    "                     spike_times=unit_row.times,\n",
    "                     electrodes = np.where(unit_row.waveform_weights > 0)[0],\n",
    "                     waveform_mean = unit_row.template,\n",
    "# #                       quality=0.95\n",
    "                     depth = unit_row.depth,\n",
    "                     xpos= unit_row.xpos,\n",
    "                     ypos= unit_row.zpos,\n",
    "#                      # template= unit_row.template,\n",
    "                     label= lbl,\n",
    "                     KSlabel= klbl,\n",
    "                     KSamplitude= unit_row.KSamplitude,\n",
    "                     KScontamination= unit_row.KScontamination,\n",
    "                     probe= unit_row.probe,\n",
    "                    )"
   ]
  },
  {
   "cell_type": "code",
   "execution_count": 116,
   "id": "bcb96ae6-e3cb-4e1e-ace6-4695cebbc1a9",
   "metadata": {},
   "outputs": [],
   "source": [
    "nwb_path = os.path.join(recording_folder,recording_folder.split('/')[-5])+'.nwb'\n",
    "with pynwb.NWBHDF5IO(nwb_path, 'w') as io:\n",
    "    io.write(nwbfile)"
   ]
  },
  {
   "cell_type": "code",
   "execution_count": null,
   "id": "38cf1550-42e9-45b8-ae87-9b56982ac666",
   "metadata": {},
   "outputs": [],
   "source": []
  },
  {
   "cell_type": "markdown",
   "id": "0f8e0f4f-fff4-40b4-a93f-188c02f81849",
   "metadata": {},
   "source": [
    "# Load data"
   ]
  },
  {
   "cell_type": "code",
   "execution_count": 9,
   "id": "4844cfcb-4d96-4909-8de0-e784f5a18e40",
   "metadata": {},
   "outputs": [],
   "source": [
    "nwb_path = '/Volumes/DATA7/20230119_ax9_g0/20230119_ax9_g0.nwb'"
   ]
  },
  {
   "cell_type": "code",
   "execution_count": 5,
   "id": "6174c72f-f6c2-4e17-8e68-165e1b2a3816",
   "metadata": {},
   "outputs": [],
   "source": [
    "nwb = h5py.File(nwb_path,'r')"
   ]
  },
  {
   "cell_type": "code",
   "execution_count": 6,
   "id": "44ffc2d2-5e54-4ac9-89f4-e0b214559c9b",
   "metadata": {},
   "outputs": [
    {
     "data": {
      "text/plain": [
       "<HDF5 file \"20230119_ax9_g02.nwb\" (mode r)>"
      ]
     },
     "execution_count": 6,
     "metadata": {},
     "output_type": "execute_result"
    }
   ],
   "source": [
    "nwb"
   ]
  },
  {
   "cell_type": "markdown",
   "id": "bb46618f-c54b-42a0-9e62-7aaa11bb74df",
   "metadata": {},
   "source": [
    "# browse with NWBwidget"
   ]
  },
  {
   "cell_type": "code",
   "execution_count": 7,
   "id": "5bdc00ac-6103-4c60-99d3-580dc1006f64",
   "metadata": {},
   "outputs": [],
   "source": [
    "from pynwb import NWBHDF5IO\n",
    "from nwbwidgets import nwb2widget"
   ]
  },
  {
   "cell_type": "code",
   "execution_count": 10,
   "id": "f45157df-15ce-4494-9b5e-da1306949f6a",
   "metadata": {
    "tags": []
   },
   "outputs": [
    {
     "data": {
      "application/vnd.jupyter.widget-view+json": {
       "model_id": "60c276cfd2544c0abba0348a1b9f6873",
       "version_major": 2,
       "version_minor": 0
      },
      "text/plain": [
       "VBox(children=(HBox(children=(Label(value='session_description:', layout=Layout(max_height='40px', max_width='…"
      ]
     },
     "metadata": {},
     "output_type": "display_data"
    }
   ],
   "source": [
    "io = NWBHDF5IO(nwb_path, mode='r')\n",
    "nwb_ = io.read()\n",
    "\n",
    "nwb2widget(nwb_)"
   ]
  },
  {
   "cell_type": "code",
   "execution_count": 32,
   "id": "9ca9b7ea-eff1-4558-a85a-c7d119205cfa",
   "metadata": {},
   "outputs": [],
   "source": [
    "df_stim = nwb_.trials.to_dataframe()\n",
    "df_opto = nwb_.get_time_intervals('optogenetics_states').to_dataframe()\n",
    "df_units = nwb_.units.to_dataframe()"
   ]
  },
  {
   "cell_type": "code",
   "execution_count": 38,
   "id": "a26f4af1-8ed7-49fa-9f8a-9127d64f0fff",
   "metadata": {},
   "outputs": [],
   "source": [
    "optogenetics_LED_state = []\n",
    "for i,row in df_stim.iterrows():\n",
    "    if np.min(np.abs(df_opto.start_time.values - row.start_time))<0.1:\n",
    "        optogenetics_LED_state.extend([1])\n",
    "    else:\n",
    "        optogenetics_LED_state.extend([0])\n",
    "df_stim['optogenetics_LED_state']= optogenetics_LED_state"
   ]
  },
  {
   "cell_type": "code",
   "execution_count": null,
   "id": "65705a09-37a7-46a6-a2e4-ba9426d8540e",
   "metadata": {},
   "outputs": [],
   "source": []
  },
  {
   "cell_type": "markdown",
   "id": "89e895a5-dcfb-4c71-a688-4ea175aa1d73",
   "metadata": {},
   "source": [
    "## flash responses"
   ]
  },
  {
   "cell_type": "code",
   "execution_count": 19,
   "id": "1162acab-2a53-4bff-acc9-90ed42ad12a8",
   "metadata": {},
   "outputs": [],
   "source": [
    "import dlab.psth_and_raster as psth\n",
    "from dlab.generalephys import cleanAxes\n",
    "df1=df_units"
   ]
  },
  {
   "cell_type": "markdown",
   "id": "8c84c78c-e979-40d3-a1a9-325c0e500fde",
   "metadata": {},
   "source": [
    "plot one unit"
   ]
  },
  {
   "cell_type": "code",
   "execution_count": 51,
   "id": "aa7b6d5e-30d2-457d-b695-f48b1c7e7dca",
   "metadata": {
    "tags": []
   },
   "outputs": [
    {
     "data": {
      "image/png": "[encoded data removed]",
      "text/plain": [
       "<Figure size 640x480 with 1 Axes>"
      ]
     },
     "metadata": {},
     "output_type": "display_data"
    },
    {
     "data": {
      "image/png": "[encoded data removed]",
      "text/plain": [
       "<Figure size 640x480 with 2 Axes>"
      ]
     },
     "metadata": {},
     "output_type": "display_data"
    }
   ],
   "source": [
    "unit=103\n",
    "df1 = df_units[df_units.probe=='B']\n",
    "f,ax=plt.subplots(1,1)\n",
    "psth.psth_line(times=df1[df1.index==unit].spike_times.values[0],\n",
    "         triggers=df_stim[(df_stim.stimulus=='luminance_flash') & (df_stim.optogenetics_LED_state == 0)].start_time.values,\n",
    "              ymax=40,binsize=0.05,axes=ax,color='#487697')\n",
    "psth.psth_line(times=df1[df1.index==unit].spike_times.values[0],\n",
    "         triggers=df_stim[(df_stim.stimulus=='luminance_flash') & (df_stim.optogenetics_LED_state == 1)].start_time.values,\n",
    "              ymax=40,binsize=0.05,axes=ax,color='#ffaa00')\n",
    "plt.tight_layout()\n",
    "# f.savefig('/Users/danieljdenman/Academics/grants/applications/20230305_R01_NEI_resub/figures/eArch_LM_psth.eps')\n",
    "# f.savefig('/Users/danieljdenman/Academics/grants/applications/20230305_R01_NEI_resub/figures/eArch_LM_psth.png')\n",
    "\n",
    "f,ax=plt.subplots(2,1)\n",
    "psth.raster(times=df1[df1.index==unit].spike_times.values[0],\n",
    "         triggers=df_stim[(df_stim.stimulus=='luminance_flash') & (df_stim.optogenetics_LED_state == 0)].start_time.values,\n",
    "              axes=ax[0],color='#487697',timeDomain=True,post=1.5,ms=8)\n",
    "psth.raster(times=df1[df1.index==unit].spike_times.values[0],\n",
    "         triggers=df_stim[(df_stim.stimulus=='luminance_flash') & (df_stim.optogenetics_LED_state == 1)].start_time.values,\n",
    "              axes=ax[1],color='#ffaa00',timeDomain=True,post=1.5,ms=8)\n",
    "for ax_ in ax: ax_.set_xlim(-0.5,1.0)\n",
    "plt.tight_layout()\n",
    "# f.savefig('/Users/danieljdenman/Academics/grants/applications/20230305_R01_NEI_resub/figures/eArch_LM_raster.eps')"
   ]
  }
 ],
 "metadata": {
  "kernelspec": {
   "display_name": "Python 3 (ipykernel)",
   "language": "python",
   "name": "python3"
  },
  "language_info": {
   "codemirror_mode": {
    "name": "ipython",
    "version": 3
   },
   "file_extension": ".py",
   "mimetype": "text/x-python",
   "name": "python",
   "nbconvert_exporter": "python",
   "pygments_lexer": "ipython3",
   "version": "3.9.17"
  }
 },
 "nbformat": 4,
 "nbformat_minor": 5
}
