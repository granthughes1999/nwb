{
 "cells": [
  {
   "cell_type": "code",
   "execution_count": 1,
   "id": "327c1fa0-c022-42e0-a6c5-78a7872c5c1d",
   "metadata": {},
   "outputs": [
    {
     "ename": "SyntaxError",
     "evalue": "invalid syntax (2293000065.py, line 1)",
     "output_type": "error",
     "traceback": [
      "\u001b[1;36m  Cell \u001b[1;32mIn[1], line 1\u001b[1;36m\u001b[0m\n\u001b[1;33m    pip install denmanlab\u001b[0m\n\u001b[1;37m        ^\u001b[0m\n\u001b[1;31mSyntaxError\u001b[0m\u001b[1;31m:\u001b[0m invalid syntax\n"
     ]
    }
   ],
   "source": [
    "pip install denmanlab\n",
    "# pip install open_ephys"
   ]
  },
  {
   "cell_type": "code",
   "execution_count": 3,
   "id": "e2f3973d-812e-4ba3-b834-7562bb262c53",
   "metadata": {},
   "outputs": [],
   "source": [
    "import numpy as np\n",
    "import pandas as pd\n",
    "import matplotlib.pyplot as plt\n",
    "import seaborn as sns\n",
    "import h5py\n",
    "import os,sys,glob, json\n",
    "import _pickle as pkl\n",
    "import dlab\n",
    "from tqdm.notebook import tqdm\n",
    "%matplotlib inline\n",
    "%load_ext autoreload\n",
    "%autoreload 2\n",
    "plt.style.use('dark_background')"
   ]
  },
  {
   "cell_type": "code",
   "execution_count": 4,
   "id": "21dac9c3-860d-4e34-8a03-2dba015a58f5",
   "metadata": {},
   "outputs": [],
   "source": [
    "import matplotlib \n",
    "matplotlib.rcParams.update({'figure.max_open_warning': 0})"
   ]
  },
  {
   "cell_type": "markdown",
   "id": "454bc963",
   "metadata": {},
   "source": [
    "change experiment metadata to match yours here:"
   ]
  },
  {
   "cell_type": "code",
   "execution_count": 5,
   "id": "5aa242e0-fe1e-4edd-81b5-3e1980db28b8",
   "metadata": {},
   "outputs": [],
   "source": [
    "recording_folder = r'G:/Grant/rotation/2023-09-20_14-25-05_eOPN3_33/'\n",
    "\n",
    "experimenter = 'grh'\n",
    "experiment_description= 'Denman Lab, University of Colorado Anschutz. Test of eOPN3 V1 axon silencing in LM'\n",
    "\n",
    "#spikeglx\n",
    "# probes = [os.path.basename(f) for f in np.sort(glob.glob(recording_folder+'/*-AP*'))]\n",
    "\n",
    "probeids = ['A','B','C'] \n",
    "probedepths = [1050,1100,3300] "
   ]
  },
  {
   "cell_type": "code",
   "execution_count": 6,
   "id": "7b7f67da-fe68-4c74-8eb5-af2abdcdf744",
   "metadata": {},
   "outputs": [
    {
     "ename": "NameError",
     "evalue": "name 'probes' is not defined",
     "output_type": "error",
     "traceback": [
      "\u001b[1;31m---------------------------------------------------------------------------\u001b[0m",
      "\u001b[1;31mNameError\u001b[0m                                 Traceback (most recent call last)",
      "\u001b[1;32mc:\\Users\\denmanlab\\Documents\\GitHub\\nwb\\Rotation_files\\LM_stim.ipynb Cell 6\u001b[0m line \u001b[0;36m1\n\u001b[1;32m----> <a href='vscode-notebook-cell:/c%3A/Users/denmanlab/Documents/GitHub/nwb/Rotation_files/LM_stim.ipynb#W5sZmlsZQ%3D%3D?line=0'>1</a>\u001b[0m probes\n",
      "\u001b[1;31mNameError\u001b[0m: name 'probes' is not defined"
     ]
    }
   ],
   "source": [
    "probes"
   ]
  },
  {
   "cell_type": "markdown",
   "id": "2c149b27",
   "metadata": {},
   "source": [
    "## stimulus time parsing\n",
    "load timestamps from the sync channels of the recording"
   ]
  },
  {
   "cell_type": "code",
   "execution_count": 7,
   "id": "15b37e24-14b9-4907-9c1e-e4afe4d62a56",
   "metadata": {},
   "outputs": [],
   "source": [
    "from open_ephys.analysis import Session\n",
    "\n",
    "directory = recording_folder # for example\n",
    "\n",
    "session = Session(directory)"
   ]
  },
  {
   "cell_type": "code",
   "execution_count": 8,
   "id": "26b63fe5-1ef8-40ed-90fe-d54da4c470f8",
   "metadata": {},
   "outputs": [],
   "source": [
    "events_df = pd.DataFrame(session.recordnodes[0].recordings[0].events)#"
   ]
  },
  {
   "cell_type": "code",
   "execution_count": 9,
   "id": "18e12e66-672d-411c-b1fc-cf26c9b9657a",
   "metadata": {},
   "outputs": [],
   "source": [
    "ni_df = events_df[events_df.stream_name == 'PXI-6133' ]"
   ]
  },
  {
   "cell_type": "code",
   "execution_count": 10,
   "id": "9c367371-a43c-4204-b8ef-09d01423c0b2",
   "metadata": {},
   "outputs": [
    {
     "data": {
      "text/html": [
       "<div>\n",
       "<style scoped>\n",
       "    .dataframe tbody tr th:only-of-type {\n",
       "        vertical-align: middle;\n",
       "    }\n",
       "\n",
       "    .dataframe tbody tr th {\n",
       "        vertical-align: top;\n",
       "    }\n",
       "\n",
       "    .dataframe thead th {\n",
       "        text-align: right;\n",
       "    }\n",
       "</style>\n",
       "<table border=\"1\" class=\"dataframe\">\n",
       "  <thead>\n",
       "    <tr style=\"text-align: right;\">\n",
       "      <th></th>\n",
       "      <th>line</th>\n",
       "      <th>sample_number</th>\n",
       "      <th>timestamp</th>\n",
       "      <th>processor_id</th>\n",
       "      <th>stream_index</th>\n",
       "      <th>stream_name</th>\n",
       "      <th>state</th>\n",
       "    </tr>\n",
       "  </thead>\n",
       "  <tbody>\n",
       "    <tr>\n",
       "      <th>4</th>\n",
       "      <td>8</td>\n",
       "      <td>26918761</td>\n",
       "      <td>896.901100</td>\n",
       "      <td>107</td>\n",
       "      <td>6</td>\n",
       "      <td>PXI-6133</td>\n",
       "      <td>1</td>\n",
       "    </tr>\n",
       "    <tr>\n",
       "      <th>11</th>\n",
       "      <td>8</td>\n",
       "      <td>26933776</td>\n",
       "      <td>897.401600</td>\n",
       "      <td>107</td>\n",
       "      <td>6</td>\n",
       "      <td>PXI-6133</td>\n",
       "      <td>0</td>\n",
       "    </tr>\n",
       "    <tr>\n",
       "      <th>15</th>\n",
       "      <td>8</td>\n",
       "      <td>26948791</td>\n",
       "      <td>897.902100</td>\n",
       "      <td>107</td>\n",
       "      <td>6</td>\n",
       "      <td>PXI-6133</td>\n",
       "      <td>1</td>\n",
       "    </tr>\n",
       "    <tr>\n",
       "      <th>21</th>\n",
       "      <td>8</td>\n",
       "      <td>26963806</td>\n",
       "      <td>898.402600</td>\n",
       "      <td>107</td>\n",
       "      <td>6</td>\n",
       "      <td>PXI-6133</td>\n",
       "      <td>0</td>\n",
       "    </tr>\n",
       "    <tr>\n",
       "      <th>32</th>\n",
       "      <td>8</td>\n",
       "      <td>26978821</td>\n",
       "      <td>898.903100</td>\n",
       "      <td>107</td>\n",
       "      <td>6</td>\n",
       "      <td>PXI-6133</td>\n",
       "      <td>1</td>\n",
       "    </tr>\n",
       "    <tr>\n",
       "      <th>...</th>\n",
       "      <td>...</td>\n",
       "      <td>...</td>\n",
       "      <td>...</td>\n",
       "      <td>...</td>\n",
       "      <td>...</td>\n",
       "      <td>...</td>\n",
       "      <td>...</td>\n",
       "    </tr>\n",
       "    <tr>\n",
       "      <th>1247691</th>\n",
       "      <td>8</td>\n",
       "      <td>340794013</td>\n",
       "      <td>11359.410240</td>\n",
       "      <td>107</td>\n",
       "      <td>6</td>\n",
       "      <td>PXI-6133</td>\n",
       "      <td>1</td>\n",
       "    </tr>\n",
       "    <tr>\n",
       "      <th>1247697</th>\n",
       "      <td>8</td>\n",
       "      <td>340809029</td>\n",
       "      <td>11359.910033</td>\n",
       "      <td>107</td>\n",
       "      <td>6</td>\n",
       "      <td>PXI-6133</td>\n",
       "      <td>0</td>\n",
       "    </tr>\n",
       "    <tr>\n",
       "      <th>1247702</th>\n",
       "      <td>8</td>\n",
       "      <td>340824044</td>\n",
       "      <td>11360.410533</td>\n",
       "      <td>107</td>\n",
       "      <td>6</td>\n",
       "      <td>PXI-6133</td>\n",
       "      <td>1</td>\n",
       "    </tr>\n",
       "    <tr>\n",
       "      <th>1247712</th>\n",
       "      <td>8</td>\n",
       "      <td>340839059</td>\n",
       "      <td>11360.911773</td>\n",
       "      <td>107</td>\n",
       "      <td>6</td>\n",
       "      <td>PXI-6133</td>\n",
       "      <td>0</td>\n",
       "    </tr>\n",
       "    <tr>\n",
       "      <th>1247718</th>\n",
       "      <td>8</td>\n",
       "      <td>340854074</td>\n",
       "      <td>11361.411533</td>\n",
       "      <td>107</td>\n",
       "      <td>6</td>\n",
       "      <td>PXI-6133</td>\n",
       "      <td>1</td>\n",
       "    </tr>\n",
       "  </tbody>\n",
       "</table>\n",
       "<p>1122266 rows × 7 columns</p>\n",
       "</div>"
      ],
      "text/plain": [
       "         line  sample_number     timestamp  processor_id  stream_index  \\\n",
       "4           8       26918761    896.901100           107             6   \n",
       "11          8       26933776    897.401600           107             6   \n",
       "15          8       26948791    897.902100           107             6   \n",
       "21          8       26963806    898.402600           107             6   \n",
       "32          8       26978821    898.903100           107             6   \n",
       "...       ...            ...           ...           ...           ...   \n",
       "1247691     8      340794013  11359.410240           107             6   \n",
       "1247697     8      340809029  11359.910033           107             6   \n",
       "1247702     8      340824044  11360.410533           107             6   \n",
       "1247712     8      340839059  11360.911773           107             6   \n",
       "1247718     8      340854074  11361.411533           107             6   \n",
       "\n",
       "        stream_name  state  \n",
       "4          PXI-6133      1  \n",
       "11         PXI-6133      0  \n",
       "15         PXI-6133      1  \n",
       "21         PXI-6133      0  \n",
       "32         PXI-6133      1  \n",
       "...             ...    ...  \n",
       "1247691    PXI-6133      1  \n",
       "1247697    PXI-6133      0  \n",
       "1247702    PXI-6133      1  \n",
       "1247712    PXI-6133      0  \n",
       "1247718    PXI-6133      1  \n",
       "\n",
       "[1122266 rows x 7 columns]"
      ]
     },
     "execution_count": 10,
     "metadata": {},
     "output_type": "execute_result"
    }
   ],
   "source": [
    "ni_df"
   ]
  },
  {
   "cell_type": "code",
   "execution_count": 11,
   "id": "acea7fa5",
   "metadata": {},
   "outputs": [
    {
     "data": {
      "text/html": [
       "<div>\n",
       "<style scoped>\n",
       "    .dataframe tbody tr th:only-of-type {\n",
       "        vertical-align: middle;\n",
       "    }\n",
       "\n",
       "    .dataframe tbody tr th {\n",
       "        vertical-align: top;\n",
       "    }\n",
       "\n",
       "    .dataframe thead th {\n",
       "        text-align: right;\n",
       "    }\n",
       "</style>\n",
       "<table border=\"1\" class=\"dataframe\">\n",
       "  <thead>\n",
       "    <tr style=\"text-align: right;\">\n",
       "      <th></th>\n",
       "      <th>line</th>\n",
       "      <th>sample_number</th>\n",
       "      <th>timestamp</th>\n",
       "      <th>processor_id</th>\n",
       "      <th>stream_index</th>\n",
       "      <th>stream_name</th>\n",
       "      <th>state</th>\n",
       "    </tr>\n",
       "  </thead>\n",
       "  <tbody>\n",
       "    <tr>\n",
       "      <th>8303</th>\n",
       "      <td>4</td>\n",
       "      <td>44718198</td>\n",
       "      <td>1490.215667</td>\n",
       "      <td>107</td>\n",
       "      <td>6</td>\n",
       "      <td>PXI-6133</td>\n",
       "      <td>1</td>\n",
       "    </tr>\n",
       "    <tr>\n",
       "      <th>8306</th>\n",
       "      <td>4</td>\n",
       "      <td>44718200</td>\n",
       "      <td>1490.215733</td>\n",
       "      <td>107</td>\n",
       "      <td>6</td>\n",
       "      <td>PXI-6133</td>\n",
       "      <td>0</td>\n",
       "    </tr>\n",
       "    <tr>\n",
       "      <th>12936</th>\n",
       "      <td>4</td>\n",
       "      <td>53952624</td>\n",
       "      <td>1798.029867</td>\n",
       "      <td>107</td>\n",
       "      <td>6</td>\n",
       "      <td>PXI-6133</td>\n",
       "      <td>1</td>\n",
       "    </tr>\n",
       "    <tr>\n",
       "      <th>12943</th>\n",
       "      <td>4</td>\n",
       "      <td>53954078</td>\n",
       "      <td>1798.078333</td>\n",
       "      <td>107</td>\n",
       "      <td>6</td>\n",
       "      <td>PXI-6133</td>\n",
       "      <td>0</td>\n",
       "    </tr>\n",
       "    <tr>\n",
       "      <th>12944</th>\n",
       "      <td>4</td>\n",
       "      <td>53954124</td>\n",
       "      <td>1798.079867</td>\n",
       "      <td>107</td>\n",
       "      <td>6</td>\n",
       "      <td>PXI-6133</td>\n",
       "      <td>1</td>\n",
       "    </tr>\n",
       "    <tr>\n",
       "      <th>...</th>\n",
       "      <td>...</td>\n",
       "      <td>...</td>\n",
       "      <td>...</td>\n",
       "      <td>...</td>\n",
       "      <td>...</td>\n",
       "      <td>...</td>\n",
       "      <td>...</td>\n",
       "    </tr>\n",
       "    <tr>\n",
       "      <th>1158073</th>\n",
       "      <td>4</td>\n",
       "      <td>312255200</td>\n",
       "      <td>10408.115733</td>\n",
       "      <td>107</td>\n",
       "      <td>6</td>\n",
       "      <td>PXI-6133</td>\n",
       "      <td>1</td>\n",
       "    </tr>\n",
       "    <tr>\n",
       "      <th>1158074</th>\n",
       "      <td>4</td>\n",
       "      <td>312255201</td>\n",
       "      <td>10408.115767</td>\n",
       "      <td>107</td>\n",
       "      <td>6</td>\n",
       "      <td>PXI-6133</td>\n",
       "      <td>0</td>\n",
       "    </tr>\n",
       "    <tr>\n",
       "      <th>1227165</th>\n",
       "      <td>4</td>\n",
       "      <td>327510091</td>\n",
       "      <td>10916.612100</td>\n",
       "      <td>107</td>\n",
       "      <td>6</td>\n",
       "      <td>PXI-6133</td>\n",
       "      <td>1</td>\n",
       "    </tr>\n",
       "    <tr>\n",
       "      <th>1227166</th>\n",
       "      <td>4</td>\n",
       "      <td>327510092</td>\n",
       "      <td>10916.612133</td>\n",
       "      <td>107</td>\n",
       "      <td>6</td>\n",
       "      <td>PXI-6133</td>\n",
       "      <td>0</td>\n",
       "    </tr>\n",
       "    <tr>\n",
       "      <th>1243118</th>\n",
       "      <td>4</td>\n",
       "      <td>331058446</td>\n",
       "      <td>11034.889882</td>\n",
       "      <td>107</td>\n",
       "      <td>6</td>\n",
       "      <td>PXI-6133</td>\n",
       "      <td>1</td>\n",
       "    </tr>\n",
       "  </tbody>\n",
       "</table>\n",
       "<p>15897 rows × 7 columns</p>\n",
       "</div>"
      ],
      "text/plain": [
       "         line  sample_number     timestamp  processor_id  stream_index  \\\n",
       "8303        4       44718198   1490.215667           107             6   \n",
       "8306        4       44718200   1490.215733           107             6   \n",
       "12936       4       53952624   1798.029867           107             6   \n",
       "12943       4       53954078   1798.078333           107             6   \n",
       "12944       4       53954124   1798.079867           107             6   \n",
       "...       ...            ...           ...           ...           ...   \n",
       "1158073     4      312255200  10408.115733           107             6   \n",
       "1158074     4      312255201  10408.115767           107             6   \n",
       "1227165     4      327510091  10916.612100           107             6   \n",
       "1227166     4      327510092  10916.612133           107             6   \n",
       "1243118     4      331058446  11034.889882           107             6   \n",
       "\n",
       "        stream_name  state  \n",
       "8303       PXI-6133      1  \n",
       "8306       PXI-6133      0  \n",
       "12936      PXI-6133      1  \n",
       "12943      PXI-6133      0  \n",
       "12944      PXI-6133      1  \n",
       "...             ...    ...  \n",
       "1158073    PXI-6133      1  \n",
       "1158074    PXI-6133      0  \n",
       "1227165    PXI-6133      1  \n",
       "1227166    PXI-6133      0  \n",
       "1243118    PXI-6133      1  \n",
       "\n",
       "[15897 rows x 7 columns]"
      ]
     },
     "execution_count": 11,
     "metadata": {},
     "output_type": "execute_result"
    }
   ],
   "source": [
    "# Filter rows where 'line' equals 4\n",
    "arbMatrix_df = ni_df[ni_df['line'] == 4]\n",
    "arbMatrix_df"
   ]
  },
  {
   "cell_type": "code",
   "execution_count": 12,
   "id": "710af6c9-a3c6-4ed2-8880-b7d43d662925",
   "metadata": {},
   "outputs": [],
   "source": [
    "ni_ts = {}\n",
    "df_up = ni_df[ni_df.state==1]\n",
    "for ch in ni_df.line.unique():\n",
    "    ni_ts[ch] = df_up[df_up.line == ch].timestamp"
   ]
  },
  {
   "cell_type": "code",
   "execution_count": 13,
   "id": "31e213fc-15ff-4c33-b114-23236b9eb07f",
   "metadata": {},
   "outputs": [
    {
     "data": {
      "text/plain": [
       "<matplotlib.legend.Legend at 0x1e1201ed1d0>"
      ]
     },
     "execution_count": 13,
     "metadata": {},
     "output_type": "execute_result"
    },
    {
     "data": {
      "image/png": "[encoded data removed]",
      "text/plain": [
       "<Figure size 640x480 with 1 Axes>"
      ]
     },
     "metadata": {},
     "output_type": "display_data"
    }
   ],
   "source": [
    "for ch in ([1,2,3,4,5,8]):\n",
    "    plt.plot(np.array(ni_ts[ch]),\n",
    "             np.ones(len(ni_ts[ch]))*ch,\n",
    "             '|',label=ch)\n",
    "plt.legend()"
   ]
  },
  {
   "cell_type": "markdown",
   "id": "70b47cc8",
   "metadata": {},
   "source": [
    "this cell likely change for each stimulus script, but should be the roughly same for different experiments with the same stimulus script. This one is for the `V1_LM.py`` stimulus script"
   ]
  },
  {
   "cell_type": "code",
   "execution_count": 108,
   "id": "d10386f8-4056-445e-8ef7-4db136cc277d",
   "metadata": {
    "tags": []
   },
   "outputs": [],
   "source": [
    "# eye_camera_frame_times = ni_ts[7]\n",
    " \n",
    "# Optogenetic light pulse ---good---\n",
    "opto_df = ni_df[ni_df.line==5]\n",
    "opto_off_times = opto_df[opto_df.state==0].timestamp \n",
    "opto_on_times = opto_df[opto_df.state==1].timestamp\n",
    "\n",
    "# danFlashCSD.py, ---good---\n",
    "df_flash = ni_df[ni_df.line==3] \n",
    "flash_times = df_flash[df_flash.state==1].timestamp[:100] #first 100 are flash onset\n",
    "inhibitory_flash_times = df_flash[df_flash.state==1].timestamp[:100] #first 100 are flash onset\n",
    "\n",
    "\n",
    "# arbMatrix_highspeed.py lines 2,3\n",
    "df_strf = ni_df[ni_df.line==4]\n",
    "arbMatrix_times = df_strf[df_strf.state==1].timestamp[:-1] \n",
    "inhibitory_arbMatrix_times = df_strf[df_strf.state==1].timestamp[:-1]\n",
    "\n",
    "# grant_grantings_ori.py, lines 2,3\n",
    "df_gratings = ni_df[ni_df.line==2]\n",
    "df_gratings = df_gratings.reset_index(drop=True)\n",
    "gratings_times = df_gratings[df_gratings.state==1].timestamp[12716:13516]\n",
    "inhibitory_gratings_times = df_gratings[df_gratings.state==1].timestamp[12000:12800]\n",
    "\n",
    "# grant_screen_flicker.py, lines 2,3\n",
    "df_flicker = ni_df[ni_df.line==2]\n",
    "flicker_times = df_flicker[df_flicker.state==1].timestamp[1:241]\n",
    "inhibitory_flicker_times_1 = df_flicker[df_flicker.state==1].timestamp[1:241]\n",
    "inhibitory_flicker_time_2 = df_flicker[df_flicker.state==1].timestamp[1:241]\n",
    "\n",
    "\n"
   ]
  },
  {
   "cell_type": "code",
   "execution_count": null,
   "id": "2f48022d",
   "metadata": {},
   "outputs": [],
   "source": []
  },
  {
   "cell_type": "code",
   "execution_count": 109,
   "id": "2b51eb4d",
   "metadata": {},
   "outputs": [
    {
     "name": "stdout",
     "output_type": "stream",
     "text": [
      "8316     1490.625167\n",
      "8360     1493.623300\n",
      "8404     1496.625767\n",
      "8448     1499.628764\n",
      "8492     1502.631900\n",
      "            ...     \n",
      "12496    1775.890000\n",
      "12540    1778.893033\n",
      "12584    1781.896767\n",
      "12628    1784.899300\n",
      "12672    1787.902100\n",
      "Name: timestamp, Length: 100, dtype: float64\n",
      "100\n"
     ]
    }
   ],
   "source": [
    "print(flash_times)\n",
    "print(len(flash_times))\n"
   ]
  },
  {
   "cell_type": "code",
   "execution_count": 116,
   "id": "0d998aca",
   "metadata": {},
   "outputs": [
    {
     "data": {
      "text/html": [
       "<div>\n",
       "<style scoped>\n",
       "    .dataframe tbody tr th:only-of-type {\n",
       "        vertical-align: middle;\n",
       "    }\n",
       "\n",
       "    .dataframe tbody tr th {\n",
       "        vertical-align: top;\n",
       "    }\n",
       "\n",
       "    .dataframe thead th {\n",
       "        text-align: right;\n",
       "    }\n",
       "</style>\n",
       "<table border=\"1\" class=\"dataframe\">\n",
       "  <thead>\n",
       "    <tr style=\"text-align: right;\">\n",
       "      <th></th>\n",
       "      <th>line</th>\n",
       "      <th>sample_number</th>\n",
       "      <th>timestamp</th>\n",
       "      <th>processor_id</th>\n",
       "      <th>stream_index</th>\n",
       "      <th>stream_name</th>\n",
       "      <th>state</th>\n",
       "    </tr>\n",
       "  </thead>\n",
       "  <tbody>\n",
       "    <tr>\n",
       "      <th>175</th>\n",
       "      <td>2</td>\n",
       "      <td>74716592</td>\n",
       "      <td>2490.162295</td>\n",
       "      <td>107</td>\n",
       "      <td>6</td>\n",
       "      <td>PXI-6133</td>\n",
       "      <td>1</td>\n",
       "    </tr>\n",
       "    <tr>\n",
       "      <th>176</th>\n",
       "      <td>2</td>\n",
       "      <td>74718089</td>\n",
       "      <td>2490.212195</td>\n",
       "      <td>107</td>\n",
       "      <td>6</td>\n",
       "      <td>PXI-6133</td>\n",
       "      <td>1</td>\n",
       "    </tr>\n",
       "    <tr>\n",
       "      <th>177</th>\n",
       "      <td>2</td>\n",
       "      <td>74719589</td>\n",
       "      <td>2490.262195</td>\n",
       "      <td>107</td>\n",
       "      <td>6</td>\n",
       "      <td>PXI-6133</td>\n",
       "      <td>1</td>\n",
       "    </tr>\n",
       "    <tr>\n",
       "      <th>178</th>\n",
       "      <td>2</td>\n",
       "      <td>74721099</td>\n",
       "      <td>2490.312529</td>\n",
       "      <td>107</td>\n",
       "      <td>6</td>\n",
       "      <td>PXI-6133</td>\n",
       "      <td>1</td>\n",
       "    </tr>\n",
       "    <tr>\n",
       "      <th>179</th>\n",
       "      <td>2</td>\n",
       "      <td>77559783</td>\n",
       "      <td>2584.934998</td>\n",
       "      <td>107</td>\n",
       "      <td>6</td>\n",
       "      <td>PXI-6133</td>\n",
       "      <td>1</td>\n",
       "    </tr>\n",
       "  </tbody>\n",
       "</table>\n",
       "</div>"
      ],
      "text/plain": [
       "     line  sample_number    timestamp  processor_id  stream_index stream_name  \\\n",
       "175     2       74716592  2490.162295           107             6    PXI-6133   \n",
       "176     2       74718089  2490.212195           107             6    PXI-6133   \n",
       "177     2       74719589  2490.262195           107             6    PXI-6133   \n",
       "178     2       74721099  2490.312529           107             6    PXI-6133   \n",
       "179     2       77559783  2584.934998           107             6    PXI-6133   \n",
       "\n",
       "     state  \n",
       "175      1  \n",
       "176      1  \n",
       "177      1  \n",
       "178      1  \n",
       "179      1  "
      ]
     },
     "execution_count": 116,
     "metadata": {},
     "output_type": "execute_result"
    }
   ],
   "source": [
    "filtered_df = df_gratings[df_gratings[\"state\"] == 1]\n",
    "filtered_df = filtered_df.reset_index(drop=True)\n",
    "filtered_df[175:180]"
   ]
  },
  {
   "cell_type": "code",
   "execution_count": 114,
   "id": "8ee9b084",
   "metadata": {},
   "outputs": [
    {
     "name": "stdout",
     "output_type": "stream",
     "text": [
      "Int64Index([1, 3, 5, 8, 12, 14, 179, 72940, 72941, 72942, 84943, 85584, 145705,\n",
      "            205826],\n",
      "           dtype='int64')\n"
     ]
    }
   ],
   "source": [
    "# Assuming df is your DataFrame\n",
    "differences = filtered_df['timestamp'].diff()  # This computes the difference between successive timestamps\n",
    "\n",
    "indexes = differences[differences > 25].index\n",
    "print(indexes)"
   ]
  },
  {
   "cell_type": "markdown",
   "id": "e000e611",
   "metadata": {},
   "source": [
    "make sure to check all of the `_times` in the above cell to make sure they have the correct number of times with the correct approximate spacing between each (for example, between each trial for gratings or between in each frame for arbMatrix)"
   ]
  },
  {
   "cell_type": "code",
   "execution_count": 16,
   "id": "450357c5-77a7-41fa-9e7c-61bf34c52402",
   "metadata": {},
   "outputs": [
    {
     "data": {
      "text/plain": [
       "8304      1490.215667\n",
       "125555    2242.410121\n",
       "126027    2273.195900\n",
       "546804    5492.796458\n",
       "546834    5494.798233\n",
       "546864    5496.815100\n",
       "546894    5498.833125\n",
       "546924    5500.838867\n",
       "546954    5502.853067\n",
       "546984    5504.871125\n",
       "547014    5506.888633\n",
       "547044    5508.902200\n",
       "547074    5510.917433\n",
       "547104    5512.935733\n",
       "547134    5514.944508\n",
       "547164    5516.952067\n",
       "547194    5518.972500\n",
       "547224    5521.004741\n",
       "547312    5526.941874\n",
       "551734    5827.999067\n",
       "551764    5830.017400\n",
       "551794    5832.038846\n",
       "551824    5834.069933\n",
       "551854    5836.073833\n",
       "551884    5838.110113\n",
       "551914    5840.112233\n",
       "551944    5842.148467\n",
       "551974    5844.158947\n",
       "552004    5846.168167\n",
       "552034    5848.185633\n",
       "552064    5850.202533\n",
       "552094    5852.222067\n",
       "552124    5854.240100\n",
       "552154    5856.262667\n",
       "656959    6467.279333\n",
       "656989    6469.296433\n",
       "657019    6471.298467\n",
       "657049    6473.315679\n",
       "657079    6475.337167\n",
       "657109    6477.354500\n",
       "657139    6479.374011\n",
       "657169    6481.393133\n",
       "657199    6483.407567\n",
       "657229    6485.412678\n",
       "657259    6487.430767\n",
       "657289    6489.447567\n",
       "657319    6491.466567\n",
       "657349    6493.484233\n",
       "657379    6495.507400\n",
       "830837    7788.625967\n",
       "830867    7790.629133\n",
       "830897    7792.645633\n",
       "830927    7794.667533\n",
       "830957    7796.685200\n",
       "830987    7798.721700\n",
       "831017    7800.755067\n",
       "831047    7802.772333\n",
       "831077    7804.802900\n",
       "831107    7806.822667\n",
       "831137    7808.838800\n",
       "Name: timestamp, dtype: float64"
      ]
     },
     "execution_count": 16,
     "metadata": {},
     "output_type": "execute_result"
    }
   ],
   "source": [
    "opto_on_times[:60]"
   ]
  },
  {
   "cell_type": "code",
   "execution_count": 17,
   "id": "3d563f11-3c7e-439e-b5b4-4f6ec2adabd6",
   "metadata": {},
   "outputs": [
    {
     "data": {
      "text/plain": [
       "8316     1490.625167\n",
       "8360     1493.623300\n",
       "8404     1496.625767\n",
       "8448     1499.628764\n",
       "8492     1502.631900\n",
       "            ...     \n",
       "12496    1775.890000\n",
       "12540    1778.893033\n",
       "12584    1781.896767\n",
       "12628    1784.899300\n",
       "12672    1787.902100\n",
       "Name: timestamp, Length: 100, dtype: float64"
      ]
     },
     "execution_count": 17,
     "metadata": {},
     "output_type": "execute_result"
    }
   ],
   "source": [
    "flash_times"
   ]
  },
  {
   "cell_type": "code",
   "execution_count": 18,
   "id": "90c5d7f9-2397-4b4e-a83b-9803e6ba05aa",
   "metadata": {},
   "outputs": [
    {
     "data": {
      "text/plain": [
       "[<matplotlib.lines.Line2D at 0x1d43352a450>]"
      ]
     },
     "execution_count": 18,
     "metadata": {},
     "output_type": "execute_result"
    },
    {
     "data": {
      "image/png": "[encoded data removed]",
      "text/plain": [
       "<Figure size 640x480 with 1 Axes>"
      ]
     },
     "metadata": {},
     "output_type": "display_data"
    }
   ],
   "source": [
    "plt.plot(np.diff(gratings_times))"
   ]
  },
  {
   "cell_type": "code",
   "execution_count": 19,
   "id": "4ee3bbd7-59ec-4708-8ab1-6cd080b7123f",
   "metadata": {},
   "outputs": [],
   "source": [
    "stimuli_times = {'luminance_flash':flash_times,\n",
    "                 'gratings':gratings_times,\n",
    "                 'spatioluminance_noise':arbMatrix_times,\n",
    "                  }"
   ]
  },
  {
   "cell_type": "code",
   "execution_count": 13,
   "id": "09ed8c33-d15d-4c69-a5a7-76839bbb59ba",
   "metadata": {},
   "outputs": [],
   "source": [
    "gratings_pkl = pkl.load(open(glob.glob(stim_path+'/*gratings_o*')[0],'rb'))\n",
    "# gratings_color_pkl = pkl.load(open(glob.glob(stim_path+'/*gratings_c*')[0],'rb'))\n",
    "\n",
    "# arbMatrixcolor_pkl = pkl.load(open(glob.glob(stim_path+'/*color_*')[0],'rb'))\n",
    "# arbMatrix_pkl = pkl.load(open(glob.glob(stim_path+'/*highspeed*')[0],'rb'))\n",
    "arbMatrix_matrix = pkl.load(open(np.sort(glob.glob(stim_path+'/*'))[0],'rb'))\n",
    "# arbMatrix_pkl2 = pkl.load(open(glob.glob(stim_path+'/*highspeed*')[1],'rb'))\n",
    "# arbMatrix_matrix1 = pkl.load(open(np.sort(glob.glob(stim_path+'/*'))[1],'rb'))\n",
    "# sweeps = json.load(open(glob.glob(stim_path+'/*.json')[0],'rb'))\n",
    "#stimulus list\n",
    "stimuli = {'luminance_flash':None,\n",
    "           'gratings':gratings_pkl,\n",
    "            'spatioluminance_noise':arbMatrix_matrix,\n",
    "           } "
   ]
  },
  {
   "cell_type": "markdown",
   "id": "d6f8f027-f9e9-49ad-ba70-0dbf93928293",
   "metadata": {},
   "source": [
    "## Assemble NWB"
   ]
  },
  {
   "cell_type": "code",
   "execution_count": 14,
   "id": "9e06c51d-e2ea-4e3f-8e12-3122cfd5a4de",
   "metadata": {},
   "outputs": [],
   "source": [
    "import pynwb\n",
    "from hdmf.backends.hdf5.h5_utils import H5DataIO\n",
    "from hdmf.utils import StrDataset"
   ]
  },
  {
   "cell_type": "code",
   "execution_count": 106,
   "id": "1b954ec8-dc70-4cf7-9467-a200291e5394",
   "metadata": {},
   "outputs": [],
   "source": [
    "from datetime import datetime\n",
    "from dateutil.tz import tzlocal\n",
    "from pynwb import NWBFile\n",
    "\n",
    "nwbfile = NWBFile('Axon silencing with eArch3.0; ax11', \n",
    "                  recording_folder, \n",
    "                  datetime.now(tzlocal()),\n",
    "                  experimenter=experimenter,\n",
    "                  lab='Denman Lab',\n",
    "                  institution='University of Colorado',\n",
    "                  experiment_description=experiment_description,\n",
    "                  session_id=os.path.basename(recording_folder))"
   ]
  },
  {
   "cell_type": "markdown",
   "id": "8eee578f-8e9c-4562-93ca-ba16fc5e6abe",
   "metadata": {},
   "source": [
    "add stimulus information"
   ]
  },
  {
   "cell_type": "code",
   "execution_count": 108,
   "id": "7f5237a4-5d31-41f5-bfac-78823deda098",
   "metadata": {},
   "outputs": [],
   "source": [
    "for stim in stimuli_times.keys():\n",
    "    nwbfile.add_epoch(np.array(stimuli_times[stim])[0], \n",
    "                      np.array(stimuli_times[stim])[-1]+3.,\n",
    "                      [stim])"
   ]
  },
  {
   "cell_type": "code",
   "execution_count": 107,
   "id": "406147b3-f079-4046-9779-8b960ec02c33",
   "metadata": {},
   "outputs": [],
   "source": [
    "nwbfile.add_trial_column('stimulus', 'the stimulus during this trial')\n",
    "\n",
    "#optogenetics\n",
    "nwbfile.add_trial_column('optogenetics_LED_state',    'whether or not the LED was on or off for this trial. 1=on,0=off. exact opto times are available in ____ field of NWB')\n",
    "\n",
    "#flashCSD\n",
    "nwbfile.add_trial_column('flash_luminance', 'the luminance of the flash on this trial. 1=bright,0=dark')\n",
    "\n",
    "#gratings_orientation\n",
    "nwbfile.add_trial_column('contrast', 'index of each trial into a matrix of images')\n",
    "nwbfile.add_trial_column('temporal_frequency', 'index of each trial into a matrix of images')\n",
    "nwbfile.add_trial_column('spatial_frequency', 'index of each trial into a matrix of images')\n",
    "nwbfile.add_trial_column('orientation', 'index of each trial into a matrix of images')\n",
    "\n",
    "#arbMatrix\n",
    "nwbfile.add_trial_column('stimulus_index', 'index of each trial into a matrix of images')\n",
    "\n",
    "stim_vals = {'optogenetics_LED_state':-1,\n",
    "             'flash_luminance':-1,\n",
    "             'contrast':-1,\n",
    "             'temporal_frequency':-1,\n",
    "             'spatial_frequency':-1,\n",
    "             'orientation':-1,\n",
    "             'stimulus_index':-1,}\n",
    "\n",
    "lums = [0,1]#['white','black']\n",
    "stim = 'luminance_flash'\n",
    "for i,trial_start in enumerate(np.array(stimuli_times[stim])):\n",
    "    if np.min(np.abs(opto_on_times - trial_start)) < 0.4: opto_state=1\n",
    "    else: opto_state=0\n",
    "    nwbfile.add_trial(start_time=trial_start, stop_time=trial_start+np.mean(np.diff(stimuli_times[stim])), stimulus=stim,\n",
    "                      flash_luminance=lums[i%2],\n",
    "                      optogenetics_LED_state=opto_state,\n",
    "                      contrast = stim_vals['contrast'],\n",
    "                     temporal_frequency = stim_vals['temporal_frequency'],\n",
    "                     spatial_frequency = stim_vals['spatial_frequency'],\n",
    "                     orientation = stim_vals['orientation'],\n",
    "                      stimulus_index = stim_vals['stimulus_index'],\n",
    "                     )\n",
    "\n",
    "stim = 'gratings'\n",
    "info = [stimuli[stim]['bgsweeptable'][ind] for ind in stimuli[stim]['bgsweeporder']]\n",
    "for i,trial_start in enumerate(stimuli_times[stim]):\n",
    "    nwbfile.add_trial(start_time=trial_start, stop_time=trial_start+np.mean(np.diff(stimuli_times[stim])), stimulus=stim,\n",
    "                        flash_luminance = stim_vals['flash_luminance'],\n",
    "                      stimulus_index = stim_vals['stimulus_index'],\n",
    "                      contrast=info[i][0],\n",
    "                     temporal_frequency=info[i][2],\n",
    "                     spatial_frequency=info[i][3],\n",
    "                     orientation=info[i][-2],\n",
    "                     optogenetics_LED_state=info[i][-1])\n",
    "\n",
    "stim = 'spatioluminance_noise'\n",
    "for i,trial_start in enumerate(stimuli_times[stim]):\n",
    "    nwbfile.add_trial(start_time=trial_start, stop_time=trial_start+np.mean(np.diff(stimuli_times[stim])),stimulus=stim,\n",
    "                      flash_luminance = stim_vals['flash_luminance'],\n",
    "                      stimulus_index=i,\n",
    "                      contrast = stim_vals['contrast'],\n",
    "                     temporal_frequency = stim_vals['temporal_frequency'],\n",
    "                     spatial_frequency = stim_vals['spatial_frequency'],\n",
    "                     orientation = stim_vals['orientation'],\n",
    "                      optogenetics_LED_state = stim_vals['optogenetics_LED_state'])\n",
    "    \n",
    " # stim = 'gratings_color'\n",
    "# info = [stimuli[stim]['bgsweeptable'][ind] for ind in stimuli[stim]['bgsweeporder']]\n",
    "# for i,trial_start in enumerate(stimuli_times[stim]):\n",
    "#     nwbfile.add_trial(start_time=trial_start, stop_time=trial_start+np.mean(np.diff(stimuli_times[stim])), stimulus=stim,stimulus_info=[info[i]])\n",
    "\n",
    "# stim = 'sweeping_bar'\n",
    "# for i,trial_start in enumerate(stimuli_times[stim]):\n",
    "#     nwbfile.add_trial(start_time=trial_start, stop_time=trial_start+np.mean(np.diff(stimuli_times[stim])), stimulus=stim,stimulus_info=[list(stimuli[stim]['ori'].values())[i]])\n"
   ]
  },
  {
   "cell_type": "code",
   "execution_count": 98,
   "id": "9539ac61-8c73-49b4-b4ef-13eed47a913b",
   "metadata": {},
   "outputs": [
    {
     "data": {
      "text/html": [
       "<div>\n",
       "<style scoped>\n",
       "    .dataframe tbody tr th:only-of-type {\n",
       "        vertical-align: middle;\n",
       "    }\n",
       "\n",
       "    .dataframe tbody tr th {\n",
       "        vertical-align: top;\n",
       "    }\n",
       "\n",
       "    .dataframe thead th {\n",
       "        text-align: right;\n",
       "    }\n",
       "</style>\n",
       "<table border=\"1\" class=\"dataframe\">\n",
       "  <thead>\n",
       "    <tr style=\"text-align: right;\">\n",
       "      <th></th>\n",
       "      <th>start_time</th>\n",
       "      <th>stop_time</th>\n",
       "      <th>stimulus</th>\n",
       "      <th>optogenetics_LED_state</th>\n",
       "      <th>flash_luminance</th>\n",
       "      <th>contrast</th>\n",
       "      <th>temporal_frequency</th>\n",
       "      <th>spatial_frequency</th>\n",
       "      <th>orientation</th>\n",
       "      <th>stimulus_index</th>\n",
       "    </tr>\n",
       "    <tr>\n",
       "      <th>id</th>\n",
       "      <th></th>\n",
       "      <th></th>\n",
       "      <th></th>\n",
       "      <th></th>\n",
       "      <th></th>\n",
       "      <th></th>\n",
       "      <th></th>\n",
       "      <th></th>\n",
       "      <th></th>\n",
       "      <th></th>\n",
       "    </tr>\n",
       "  </thead>\n",
       "  <tbody>\n",
       "    <tr>\n",
       "      <th>0</th>\n",
       "      <td>8772.532871</td>\n",
       "      <td>8775.535713</td>\n",
       "      <td>luminance_flash</td>\n",
       "      <td>0</td>\n",
       "      <td>0</td>\n",
       "      <td>-1</td>\n",
       "      <td>-1</td>\n",
       "      <td>-1.0</td>\n",
       "      <td>-1</td>\n",
       "      <td>-1</td>\n",
       "    </tr>\n",
       "    <tr>\n",
       "      <th>1</th>\n",
       "      <td>8775.546567</td>\n",
       "      <td>8778.549409</td>\n",
       "      <td>luminance_flash</td>\n",
       "      <td>0</td>\n",
       "      <td>1</td>\n",
       "      <td>-1</td>\n",
       "      <td>-1</td>\n",
       "      <td>-1.0</td>\n",
       "      <td>-1</td>\n",
       "      <td>-1</td>\n",
       "    </tr>\n",
       "    <tr>\n",
       "      <th>2</th>\n",
       "      <td>8778.538233</td>\n",
       "      <td>8781.541075</td>\n",
       "      <td>luminance_flash</td>\n",
       "      <td>0</td>\n",
       "      <td>0</td>\n",
       "      <td>-1</td>\n",
       "      <td>-1</td>\n",
       "      <td>-1.0</td>\n",
       "      <td>-1</td>\n",
       "      <td>-1</td>\n",
       "    </tr>\n",
       "    <tr>\n",
       "      <th>3</th>\n",
       "      <td>8781.540867</td>\n",
       "      <td>8784.543709</td>\n",
       "      <td>luminance_flash</td>\n",
       "      <td>1</td>\n",
       "      <td>1</td>\n",
       "      <td>-1</td>\n",
       "      <td>-1</td>\n",
       "      <td>-1.0</td>\n",
       "      <td>-1</td>\n",
       "      <td>-1</td>\n",
       "    </tr>\n",
       "    <tr>\n",
       "      <th>4</th>\n",
       "      <td>8784.543867</td>\n",
       "      <td>8787.546709</td>\n",
       "      <td>luminance_flash</td>\n",
       "      <td>0</td>\n",
       "      <td>0</td>\n",
       "      <td>-1</td>\n",
       "      <td>-1</td>\n",
       "      <td>-1.0</td>\n",
       "      <td>-1</td>\n",
       "      <td>-1</td>\n",
       "    </tr>\n",
       "    <tr>\n",
       "      <th>...</th>\n",
       "      <td>...</td>\n",
       "      <td>...</td>\n",
       "      <td>...</td>\n",
       "      <td>...</td>\n",
       "      <td>...</td>\n",
       "      <td>...</td>\n",
       "      <td>...</td>\n",
       "      <td>...</td>\n",
       "      <td>...</td>\n",
       "      <td>...</td>\n",
       "    </tr>\n",
       "    <tr>\n",
       "      <th>14665</th>\n",
       "      <td>8614.984667</td>\n",
       "      <td>8615.034714</td>\n",
       "      <td>spatioluminance_noise</td>\n",
       "      <td>-1</td>\n",
       "      <td>-1</td>\n",
       "      <td>-1</td>\n",
       "      <td>-1</td>\n",
       "      <td>-1.0</td>\n",
       "      <td>-1</td>\n",
       "      <td>14395</td>\n",
       "    </tr>\n",
       "    <tr>\n",
       "      <th>14666</th>\n",
       "      <td>8615.034767</td>\n",
       "      <td>8615.084814</td>\n",
       "      <td>spatioluminance_noise</td>\n",
       "      <td>-1</td>\n",
       "      <td>-1</td>\n",
       "      <td>-1</td>\n",
       "      <td>-1</td>\n",
       "      <td>-1.0</td>\n",
       "      <td>-1</td>\n",
       "      <td>14396</td>\n",
       "    </tr>\n",
       "    <tr>\n",
       "      <th>14667</th>\n",
       "      <td>8615.084833</td>\n",
       "      <td>8615.134880</td>\n",
       "      <td>spatioluminance_noise</td>\n",
       "      <td>-1</td>\n",
       "      <td>-1</td>\n",
       "      <td>-1</td>\n",
       "      <td>-1</td>\n",
       "      <td>-1.0</td>\n",
       "      <td>-1</td>\n",
       "      <td>14397</td>\n",
       "    </tr>\n",
       "    <tr>\n",
       "      <th>14668</th>\n",
       "      <td>8615.133533</td>\n",
       "      <td>8615.183580</td>\n",
       "      <td>spatioluminance_noise</td>\n",
       "      <td>-1</td>\n",
       "      <td>-1</td>\n",
       "      <td>-1</td>\n",
       "      <td>-1</td>\n",
       "      <td>-1.0</td>\n",
       "      <td>-1</td>\n",
       "      <td>14398</td>\n",
       "    </tr>\n",
       "    <tr>\n",
       "      <th>14669</th>\n",
       "      <td>8615.183239</td>\n",
       "      <td>8615.233286</td>\n",
       "      <td>spatioluminance_noise</td>\n",
       "      <td>-1</td>\n",
       "      <td>-1</td>\n",
       "      <td>-1</td>\n",
       "      <td>-1</td>\n",
       "      <td>-1.0</td>\n",
       "      <td>-1</td>\n",
       "      <td>14399</td>\n",
       "    </tr>\n",
       "  </tbody>\n",
       "</table>\n",
       "<p>14670 rows × 10 columns</p>\n",
       "</div>"
      ],
      "text/plain": [
       "        start_time    stop_time               stimulus  \\\n",
       "id                                                       \n",
       "0      8772.532871  8775.535713        luminance_flash   \n",
       "1      8775.546567  8778.549409        luminance_flash   \n",
       "2      8778.538233  8781.541075        luminance_flash   \n",
       "3      8781.540867  8784.543709        luminance_flash   \n",
       "4      8784.543867  8787.546709        luminance_flash   \n",
       "...            ...          ...                    ...   \n",
       "14665  8614.984667  8615.034714  spatioluminance_noise   \n",
       "14666  8615.034767  8615.084814  spatioluminance_noise   \n",
       "14667  8615.084833  8615.134880  spatioluminance_noise   \n",
       "14668  8615.133533  8615.183580  spatioluminance_noise   \n",
       "14669  8615.183239  8615.233286  spatioluminance_noise   \n",
       "\n",
       "       optogenetics_LED_state  flash_luminance  contrast  temporal_frequency  \\\n",
       "id                                                                             \n",
       "0                           0                0        -1                  -1   \n",
       "1                           0                1        -1                  -1   \n",
       "2                           0                0        -1                  -1   \n",
       "3                           1                1        -1                  -1   \n",
       "4                           0                0        -1                  -1   \n",
       "...                       ...              ...       ...                 ...   \n",
       "14665                      -1               -1        -1                  -1   \n",
       "14666                      -1               -1        -1                  -1   \n",
       "14667                      -1               -1        -1                  -1   \n",
       "14668                      -1               -1        -1                  -1   \n",
       "14669                      -1               -1        -1                  -1   \n",
       "\n",
       "       spatial_frequency  orientation  stimulus_index  \n",
       "id                                                     \n",
       "0                   -1.0           -1              -1  \n",
       "1                   -1.0           -1              -1  \n",
       "2                   -1.0           -1              -1  \n",
       "3                   -1.0           -1              -1  \n",
       "4                   -1.0           -1              -1  \n",
       "...                  ...          ...             ...  \n",
       "14665               -1.0           -1           14395  \n",
       "14666               -1.0           -1           14396  \n",
       "14667               -1.0           -1           14397  \n",
       "14668               -1.0           -1           14398  \n",
       "14669               -1.0           -1           14399  \n",
       "\n",
       "[14670 rows x 10 columns]"
      ]
     },
     "execution_count": 98,
     "metadata": {},
     "output_type": "execute_result"
    }
   ],
   "source": [
    "nwbfile.trials.to_dataframe()"
   ]
  },
  {
   "cell_type": "markdown",
   "id": "6afb8069-041e-4c1a-9be5-9b4aab991816",
   "metadata": {},
   "source": [
    "## add optogenetics"
   ]
  },
  {
   "cell_type": "code",
   "execution_count": 109,
   "id": "1a60ea1e-fc3c-4d46-8fb9-c1c8b29cbf2e",
   "metadata": {},
   "outputs": [
    {
     "data": {
      "text/plain": [
       "161"
      ]
     },
     "execution_count": 109,
     "metadata": {},
     "output_type": "execute_result"
    }
   ],
   "source": [
    "np.array(opto_off_times).shape[0]"
   ]
  },
  {
   "cell_type": "code",
   "execution_count": 110,
   "id": "8500243c-0ad7-4219-b5b9-9a543cc912a1",
   "metadata": {},
   "outputs": [
    {
     "data": {
      "text/plain": [
       "optogenetics_states pynwb.epoch.TimeIntervals at 0x140181767651088\n",
       "Fields:\n",
       "  colnames: ['start_time' 'stop_time' 'power' 'wavelength']\n",
       "  columns: (\n",
       "    start_time <class 'hdmf.common.table.VectorData'>,\n",
       "    stop_time <class 'hdmf.common.table.VectorData'>,\n",
       "    power <class 'hdmf.common.table.VectorData'>,\n",
       "    wavelength <class 'hdmf.common.table.VectorData'>\n",
       "  )\n",
       "  description: intervals for optical fiber, fiber at power = 1.5AU on cyclops driver. fiber 565nm, \n",
       "  id: id <class 'hdmf.common.table.ElementIdentifiers'>"
      ]
     },
     "execution_count": 110,
     "metadata": {},
     "output_type": "execute_result"
    }
   ],
   "source": [
    "opto_states = pynwb.epoch.TimeIntervals(\n",
    "    name=\"optogenetics_states\",\n",
    "    description=\"intervals for optical fiber, fiber at power = 1.5AU on cyclops driver. fiber 565nm, \",\n",
    ")\n",
    "opto_states.add_column(name=\"power\", description=\"power of fiber\")\n",
    "opto_states.add_column(name=\"wavelength\", description=\"wavelength of light\")\n",
    "\n",
    "for i in range(np.array(opto_off_times).shape[0]):\n",
    "    opto_states.add_row(start_time=np.array(opto_on_times)[i], stop_time=np.array(opto_off_times)[i], power=1.5, wavelength=565)\n",
    "\n",
    "nwbfile.add_time_intervals(opto_states)"
   ]
  },
  {
   "cell_type": "markdown",
   "id": "7e120cac-6b74-4aee-be80-bb26614b9eb9",
   "metadata": {},
   "source": [
    "### add ephys data\n",
    "first add electrodes and raw data link"
   ]
  },
  {
   "cell_type": "code",
   "execution_count": 111,
   "id": "d3d41244-8f01-4025-96ed-f4f560ce475d",
   "metadata": {},
   "outputs": [],
   "source": [
    "from dlab.nwbtools import df_from_phy, load_phy_template, option234_positions, multi_load_unit_data\n"
   ]
  },
  {
   "cell_type": "code",
   "execution_count": 112,
   "id": "ddd28c6b-a17e-4d02-807b-41852e6923be",
   "metadata": {},
   "outputs": [
    {
     "name": "stderr",
     "output_type": "stream",
     "text": [
      "/Users/danieldenman/opt/anaconda3/lib/python3.9/site-packages/dlab/nwbtools.py:487: RuntimeWarning: invalid value encountered in true_divide\n",
      "  weights = weights/np.max(weights)\n"
     ]
    }
   ],
   "source": [
    "df_units = multi_load_unit_data(recording_folder,probe_depths=probedepths)"
   ]
  },
  {
   "cell_type": "code",
   "execution_count": 113,
   "id": "912429f1-97c2-498f-814b-eb0a832f7e2f",
   "metadata": {},
   "outputs": [],
   "source": [
    "locations = ['VISp','VISl','VISa;CA1;DG;LP']\n",
    "descriptions = ['Neuropixels1.0','NeuropixelsUltraAlpha','Neuropixels1.0'] "
   ]
  },
  {
   "cell_type": "code",
   "execution_count": 114,
   "id": "fd5dee5d-b54d-46de-ba92-5772ed9ab961",
   "metadata": {},
   "outputs": [],
   "source": [
    "device = nwbfile.create_device(name='DenmanLab_EphysRig1')\n",
    "\n",
    "for i, probe in enumerate(probes):\n",
    "    electrode_name = 'probe'+str(i)\n",
    "    description = descriptions[i]\n",
    "    location = locations[i]\n",
    "\n",
    "    electrode_group = nwbfile.create_electrode_group(electrode_name,\n",
    "                                                     description=description,\n",
    "                                                     location=location,\n",
    "                                                     device=device)\n",
    "    for ch in range(option234_positions.shape[0]):\n",
    "        nwbfile.add_electrode(x=option234_positions[ch,0],y=0.,z=option234_positions[0,1],imp=0.0,location='none',filtering='high pass 300Hz',group=electrode_group)\n",
    "    \n",
    "#     if len(glob.glob(os.path.join(recording_folder,probes[1])+'/*lf.b*')) > 0:\n",
    "#         ephys_ts = pynwb.ecephys.ElectricalSeries('lfp_probe'+probeids[i],\n",
    "#                                 data=H5DataIO(data=StrDataset(glob.glob(os.path.join(recording_folder,probes[1])+'/*lf.b*')[0]),    \n",
    "#                                         link_data=True),\n",
    "#                                 electrodes = electrode_group,\n",
    "#                                 starting_time=0,\n",
    "#                                 rate=2500,\n",
    "#                                 resolution=0.001,\n",
    "#                                 comments=\"V1, depth = 1500um\",\n",
    "#                                 description=\"V1, depth = 1500um\")\n",
    "#         nwbfile.add_acquisition(ephys_ts)"
   ]
  },
  {
   "cell_type": "code",
   "execution_count": 115,
   "id": "e2720703-2d68-4ee8-a4a7-1f44a8b365ce",
   "metadata": {},
   "outputs": [],
   "source": [
    "# nwbfile.add_unit_column('location', 'the anatomical location of this unit')\n",
    "# nwbfile.add_unit_column('quality', 'the quality for the inference of this unit')\n",
    "# nwbfile.add_unit_column('quality_ISIviolations', 'the quality for the inference of this unit')\n",
    "# nwbfile.add_unit_column('quality_sn', 'the quality for the inference of this unit')\n",
    "# nwbfile.add_unit_column('quality_distance', 'the quality for the inference of this unit')\n",
    "\n",
    "nwbfile.add_unit_column('depth', 'the depth of this unit from the pia')\n",
    "nwbfile.add_unit_column('xpos', 'the x position on probe')\n",
    "nwbfile.add_unit_column('ypos', 'the y position on probe')\n",
    "# nwbfile.add_unit_column('template', 'Kilosort template')\n",
    "nwbfile.add_unit_column('label', 'user label')\n",
    "nwbfile.add_unit_column('KSlabel', 'Kilosort label')\n",
    "nwbfile.add_unit_column('KSamplitude', 'Kilosort amplitude')\n",
    "nwbfile.add_unit_column('KScontamination', 'Kilosort ISI contamination')\n",
    "nwbfile.add_unit_column('probe', 'probe ID')\n",
    "\n",
    "labels =np.array(['noise','mua','good'])\n",
    "\n",
    "for i,unit_row in df_units.iterrows():\n",
    "    try: lbl = np.argwhere(unit_row.group==labels)[0][0]\n",
    "    except: lbl=0\n",
    "    try: klbl = np.argwhere(unit_row.KSlabel==labels)[0][0]\n",
    "    except: klbl=0\n",
    "    nwbfile.add_unit(id=int(unit_row.name), \n",
    "                     spike_times=unit_row.times,\n",
    "                     electrodes = np.where(unit_row.waveform_weights > 0)[0],\n",
    "                     waveform_mean = unit_row.template,\n",
    "# #                       quality=0.95\n",
    "                     depth = unit_row.depth,\n",
    "                     xpos= unit_row.xpos,\n",
    "                     ypos= unit_row.zpos,\n",
    "#                      # template= unit_row.template,\n",
    "                     label= lbl,\n",
    "                     KSlabel= klbl,\n",
    "                     KSamplitude= unit_row.KSamplitude,\n",
    "                     KScontamination= unit_row.KScontamination,\n",
    "                     probe= unit_row.probe,\n",
    "                    )"
   ]
  },
  {
   "cell_type": "code",
   "execution_count": 116,
   "id": "bcb96ae6-e3cb-4e1e-ace6-4695cebbc1a9",
   "metadata": {},
   "outputs": [],
   "source": [
    "nwb_path = os.path.join(recording_folder,recording_folder.split('/')[-5])+'.nwb'\n",
    "with pynwb.NWBHDF5IO(nwb_path, 'w') as io:\n",
    "    io.write(nwbfile)"
   ]
  },
  {
   "cell_type": "code",
   "execution_count": null,
   "id": "38cf1550-42e9-45b8-ae87-9b56982ac666",
   "metadata": {},
   "outputs": [],
   "source": []
  },
  {
   "cell_type": "markdown",
   "id": "0f8e0f4f-fff4-40b4-a93f-188c02f81849",
   "metadata": {},
   "source": [
    "# Load data"
   ]
  },
  {
   "cell_type": "code",
   "execution_count": 9,
   "id": "4844cfcb-4d96-4909-8de0-e784f5a18e40",
   "metadata": {},
   "outputs": [],
   "source": [
    "nwb_path = '/Volumes/DATA7/20230119_ax9_g0/20230119_ax9_g0.nwb'"
   ]
  },
  {
   "cell_type": "code",
   "execution_count": 5,
   "id": "6174c72f-f6c2-4e17-8e68-165e1b2a3816",
   "metadata": {},
   "outputs": [],
   "source": [
    "nwb = h5py.File(nwb_path,'r')"
   ]
  },
  {
   "cell_type": "code",
   "execution_count": 6,
   "id": "44ffc2d2-5e54-4ac9-89f4-e0b214559c9b",
   "metadata": {},
   "outputs": [
    {
     "data": {
      "text/plain": [
       "<HDF5 file \"20230119_ax9_g02.nwb\" (mode r)>"
      ]
     },
     "execution_count": 6,
     "metadata": {},
     "output_type": "execute_result"
    }
   ],
   "source": [
    "nwb"
   ]
  },
  {
   "cell_type": "markdown",
   "id": "bb46618f-c54b-42a0-9e62-7aaa11bb74df",
   "metadata": {},
   "source": [
    "# browse with NWBwidget"
   ]
  },
  {
   "cell_type": "code",
   "execution_count": 7,
   "id": "5bdc00ac-6103-4c60-99d3-580dc1006f64",
   "metadata": {},
   "outputs": [],
   "source": [
    "from pynwb import NWBHDF5IO\n",
    "from nwbwidgets import nwb2widget"
   ]
  },
  {
   "cell_type": "code",
   "execution_count": 10,
   "id": "f45157df-15ce-4494-9b5e-da1306949f6a",
   "metadata": {
    "tags": []
   },
   "outputs": [
    {
     "data": {
      "application/vnd.jupyter.widget-view+json": {
       "model_id": "60c276cfd2544c0abba0348a1b9f6873",
       "version_major": 2,
       "version_minor": 0
      },
      "text/plain": [
       "VBox(children=(HBox(children=(Label(value='session_description:', layout=Layout(max_height='40px', max_width='…"
      ]
     },
     "metadata": {},
     "output_type": "display_data"
    }
   ],
   "source": [
    "io = NWBHDF5IO(nwb_path, mode='r')\n",
    "nwb_ = io.read()\n",
    "\n",
    "nwb2widget(nwb_)"
   ]
  },
  {
   "cell_type": "code",
   "execution_count": 32,
   "id": "9ca9b7ea-eff1-4558-a85a-c7d119205cfa",
   "metadata": {},
   "outputs": [],
   "source": [
    "df_stim = nwb_.trials.to_dataframe()\n",
    "df_opto = nwb_.get_time_intervals('optogenetics_states').to_dataframe()\n",
    "df_units = nwb_.units.to_dataframe()"
   ]
  },
  {
   "cell_type": "code",
   "execution_count": 38,
   "id": "a26f4af1-8ed7-49fa-9f8a-9127d64f0fff",
   "metadata": {},
   "outputs": [],
   "source": [
    "optogenetics_LED_state = []\n",
    "for i,row in df_stim.iterrows():\n",
    "    if np.min(np.abs(df_opto.start_time.values - row.start_time))<0.1:\n",
    "        optogenetics_LED_state.extend([1])\n",
    "    else:\n",
    "        optogenetics_LED_state.extend([0])\n",
    "df_stim['optogenetics_LED_state']= optogenetics_LED_state"
   ]
  },
  {
   "cell_type": "code",
   "execution_count": null,
   "id": "65705a09-37a7-46a6-a2e4-ba9426d8540e",
   "metadata": {},
   "outputs": [],
   "source": []
  },
  {
   "cell_type": "markdown",
   "id": "89e895a5-dcfb-4c71-a688-4ea175aa1d73",
   "metadata": {},
   "source": [
    "## flash responses"
   ]
  },
  {
   "cell_type": "code",
   "execution_count": 19,
   "id": "1162acab-2a53-4bff-acc9-90ed42ad12a8",
   "metadata": {},
   "outputs": [],
   "source": [
    "import dlab.psth_and_raster as psth\n",
    "from dlab.generalephys import cleanAxes\n",
    "df1=df_units"
   ]
  },
  {
   "cell_type": "markdown",
   "id": "8c84c78c-e979-40d3-a1a9-325c0e500fde",
   "metadata": {},
   "source": [
    "plot one unit"
   ]
  },
  {
   "cell_type": "code",
   "execution_count": 51,
   "id": "aa7b6d5e-30d2-457d-b695-f48b1c7e7dca",
   "metadata": {
    "tags": []
   },
   "outputs": [
    {
     "data": {
      "image/png": "[encoded data removed]",
      "text/plain": [
       "<Figure size 640x480 with 1 Axes>"
      ]
     },
     "metadata": {},
     "output_type": "display_data"
    },
    {
     "data": {
      "image/png": "[encoded data removed]",
      "text/plain": [
       "<Figure size 640x480 with 2 Axes>"
      ]
     },
     "metadata": {},
     "output_type": "display_data"
    }
   ],
   "source": [
    "unit=103\n",
    "df1 = df_units[df_units.probe=='B']\n",
    "f,ax=plt.subplots(1,1)\n",
    "psth.psth_line(times=df1[df1.index==unit].spike_times.values[0],\n",
    "         triggers=df_stim[(df_stim.stimulus=='luminance_flash') & (df_stim.optogenetics_LED_state == 0)].start_time.values,\n",
    "              ymax=40,binsize=0.05,axes=ax,color='#487697')\n",
    "psth.psth_line(times=df1[df1.index==unit].spike_times.values[0],\n",
    "         triggers=df_stim[(df_stim.stimulus=='luminance_flash') & (df_stim.optogenetics_LED_state == 1)].start_time.values,\n",
    "              ymax=40,binsize=0.05,axes=ax,color='#ffaa00')\n",
    "plt.tight_layout()\n",
    "# f.savefig('/Users/danieljdenman/Academics/grants/applications/20230305_R01_NEI_resub/figures/eArch_LM_psth.eps')\n",
    "# f.savefig('/Users/danieljdenman/Academics/grants/applications/20230305_R01_NEI_resub/figures/eArch_LM_psth.png')\n",
    "\n",
    "f,ax=plt.subplots(2,1)\n",
    "psth.raster(times=df1[df1.index==unit].spike_times.values[0],\n",
    "         triggers=df_stim[(df_stim.stimulus=='luminance_flash') & (df_stim.optogenetics_LED_state == 0)].start_time.values,\n",
    "              axes=ax[0],color='#487697',timeDomain=True,post=1.5,ms=8)\n",
    "psth.raster(times=df1[df1.index==unit].spike_times.values[0],\n",
    "         triggers=df_stim[(df_stim.stimulus=='luminance_flash') & (df_stim.optogenetics_LED_state == 1)].start_time.values,\n",
    "              axes=ax[1],color='#ffaa00',timeDomain=True,post=1.5,ms=8)\n",
    "for ax_ in ax: ax_.set_xlim(-0.5,1.0)\n",
    "plt.tight_layout()\n",
    "# f.savefig('/Users/danieljdenman/Academics/grants/applications/20230305_R01_NEI_resub/figures/eArch_LM_raster.eps')"
   ]
  }
 ],
 "metadata": {
  "kernelspec": {
   "display_name": "Python 3 (ipykernel)",
   "language": "python",
   "name": "python3"
  },
  "language_info": {
   "codemirror_mode": {
    "name": "ipython",
    "version": 3
   },
   "file_extension": ".py",
   "mimetype": "text/x-python",
   "name": "python",
   "nbconvert_exporter": "python",
   "pygments_lexer": "ipython3",
   "version": "3.11.4"
  }
 },
 "nbformat": 4,
 "nbformat_minor": 5
}
