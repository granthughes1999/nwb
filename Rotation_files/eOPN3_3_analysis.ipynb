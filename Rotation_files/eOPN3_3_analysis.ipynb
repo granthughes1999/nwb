{
 "cells": [
  {
   "cell_type": "code",
   "execution_count": 11,
   "metadata": {},
   "outputs": [],
   "source": [
    "from paBont_analysis_class import Eopn3_Ephys"
   ]
  },
  {
   "cell_type": "code",
   "execution_count": null,
   "metadata": {},
   "outputs": [],
   "source": []
  },
  {
   "cell_type": "code",
   "execution_count": 12,
   "metadata": {},
   "outputs": [],
   "source": [
    "recording_name = \"2023-09-29_16-07-39_PaBont2\"\n",
    "paBont2_nwb_path = r\"C:/Users/denmanlab/Desktop/nwb/pa_Bont2_nwb\"\n",
    "\n",
    "path = rf\"G:/Grant/rotation/{recording_name}/eOPN3_33_nwb.nwb\"\n",
    "# paBont2_nwb_path = r\"C:/Users/denmanlab/Desktop/nwb/pa_Bont2_nwb\"\n",
    "\n",
    "\n",
    "eOPN3_3 = Eopn3_Ephys(paBont2_nwb_path)"
   ]
  },
  {
   "cell_type": "code",
   "execution_count": 6,
   "metadata": {},
   "outputs": [
    {
     "name": "stderr",
     "output_type": "stream",
     "text": [
      "c:\\Users\\denmanlab\\Documents\\GitHub\\nwb\\Rotation_files\\paBont_analysis_class.py:210: UserWarning: Boolean Series key will be reindexed to match DataFrame index.\n",
      "  df1 = df_units[df_units.probe == probeLetter][df_units.label == 2]\n"
     ]
    }
   ],
   "source": [
    "path = rf\"G:/Grant/rotation/{recording_name}/plots/flashes/conjoined_plots/probeA/\"\n",
    "eOPN3_3.allUnits_flash_conjoined(\"A\",\"V1\", path,True,)\n",
    "\n",
    "path = r\"G:/Grant/rotation/2023-09-20_14-25-05_eOPN3_33/plots/flashes/conjoined_plots/probeB/\"\n",
    "eOPN3_3.allUnits_flash_conjoined(\"B\",\"LM\", path,True,)\n",
    "\n",
    "path = r\"G:/Grant/rotation/2023-09-20_14-25-05_eOPN3_33/plots/flashes/conjoined_plots/probeC/\"\n",
    "eOPN3_3.allUnits_flash_conjoined(\"C\",\"LGN\", path,True,)"
   ]
  },
  {
   "cell_type": "code",
   "execution_count": 7,
   "metadata": {},
   "outputs": [
    {
     "name": "stderr",
     "output_type": "stream",
     "text": [
      "c:\\Users\\denmanlab\\Documents\\GitHub\\nwb\\Rotation_files\\paBont_analysis_class.py:147: UserWarning: Boolean Series key will be reindexed to match DataFrame index.\n",
      "  df1 = df_units[df_units.probe == probeLetter][df_units.label == 2]\n",
      "c:\\Users\\denmanlab\\Documents\\GitHub\\nwb\\Rotation_files\\paBont_analysis_class.py:147: UserWarning: Boolean Series key will be reindexed to match DataFrame index.\n",
      "  df1 = df_units[df_units.probe == probeLetter][df_units.label == 2]\n",
      "c:\\Users\\denmanlab\\Documents\\GitHub\\nwb\\Rotation_files\\paBont_analysis_class.py:147: UserWarning: Boolean Series key will be reindexed to match DataFrame index.\n",
      "  df1 = df_units[df_units.probe == probeLetter][df_units.label == 2]\n"
     ]
    }
   ],
   "source": [
    "path = r\"G:/Grant/rotation/2023-09-20_14-25-05_eOPN3_33/plots/flashes/probeA/\"\n",
    "eOPN3_3.allUnits_flash(\"A\",\"V1\", path,True,)\n",
    "\n",
    "path = r\"G:/Grant/rotation/2023-09-20_14-25-05_eOPN3_33/plots/flashes/probeB/\"\n",
    "eOPN3_3.allUnits_flash(\"B\",\"LM\", path,True,)\n",
    "\n",
    "path = r\"G:/Grant/rotation/2023-09-20_14-25-05_eOPN3_33/plots/flashes/probeC/\"\n",
    "eOPN3_3.allUnits_flash(\"C\",\"LP\", path,True,)"
   ]
  },
  {
   "cell_type": "code",
   "execution_count": 8,
   "metadata": {},
   "outputs": [
    {
     "name": "stderr",
     "output_type": "stream",
     "text": [
      "c:\\Users\\denmanlab\\Documents\\GitHub\\nwb\\Rotation_files\\paBont_analysis_class.py:268: UserWarning: Boolean Series key will be reindexed to match DataFrame index.\n",
      "  df1 = df_units[df_units.probe == probeLetter][df_units.label == 2]\n",
      "c:\\Users\\denmanlab\\Documents\\GitHub\\nwb\\Rotation_files\\paBont_analysis_class.py:268: UserWarning: Boolean Series key will be reindexed to match DataFrame index.\n",
      "  df1 = df_units[df_units.probe == probeLetter][df_units.label == 2]\n",
      "c:\\Users\\denmanlab\\Documents\\GitHub\\nwb\\Rotation_files\\paBont_analysis_class.py:268: UserWarning: Boolean Series key will be reindexed to match DataFrame index.\n",
      "  df1 = df_units[df_units.probe == probeLetter][df_units.label == 2]\n"
     ]
    }
   ],
   "source": [
    "path = r\"G:/Grant/rotation/2023-09-20_14-25-05_eOPN3_33/plots/gratings/probeA/\"\n",
    "eOPN3_3.allUnit_gratings(\"A\", \"V1\", path, True)\n",
    "\n",
    "path = r\"G:/Grant/rotation/2023-09-20_14-25-05_eOPN3_33/plots/gratings/probeB/\"\n",
    "eOPN3_3.allUnit_gratings(\"B\", \"LM\", path, True)\n",
    "\n",
    "path = r\"G:/Grant/rotation/2023-09-20_14-25-05_eOPN3_33/plots/gratings/probeC/\"\n",
    "eOPN3_3.allUnit_gratings(\"C\", \"LGN\", path, True)"
   ]
  },
  {
   "cell_type": "code",
   "execution_count": 10,
   "metadata": {},
   "outputs": [
    {
     "name": "stderr",
     "output_type": "stream",
     "text": [
      "c:\\Users\\denmanlab\\Documents\\GitHub\\nwb\\Rotation_files\\paBont_analysis_class.py:332: UserWarning: Boolean Series key will be reindexed to match DataFrame index.\n",
      "  df1 = df_units[df_units.probe == probeLetter][df_units.label == 2]\n",
      "c:\\Users\\denmanlab\\Documents\\GitHub\\nwb\\Rotation_files\\paBont_analysis_class.py:332: UserWarning: Boolean Series key will be reindexed to match DataFrame index.\n",
      "  df1 = df_units[df_units.probe == probeLetter][df_units.label == 2]\n",
      "c:\\Users\\denmanlab\\Documents\\GitHub\\nwb\\Rotation_files\\paBont_analysis_class.py:332: UserWarning: Boolean Series key will be reindexed to match DataFrame index.\n",
      "  df1 = df_units[df_units.probe == probeLetter][df_units.label == 2]\n"
     ]
    }
   ],
   "source": [
    "path = r\"G:/Grant/rotation/2023-09-20_14-25-05_eOPN3_33/plots/gratings/conjoined_plots/probeA/\"\n",
    "eOPN3_3.allUnits_gratings_conjoined(\"A\", \"V1\", path, True)\n",
    "\n",
    "path = r\"G:/Grant/rotation/2023-09-20_14-25-05_eOPN3_33/plots/gratings/conjoined_plots/probeB/\"\n",
    "eOPN3_3.allUnits_gratings_conjoined(\"B\", \"LM\", path, True)\n",
    "\n",
    "path = r\"G:/Grant/rotation/2023-09-20_14-25-05_eOPN3_33/plots/gratings/conjoined_plots/probeC/\"\n",
    "eOPN3_3.allUnits_gratings_conjoined(\"C\", \"LGN\", path, True)"
   ]
  },
  {
   "cell_type": "code",
   "execution_count": 12,
   "metadata": {},
   "outputs": [
    {
     "name": "stderr",
     "output_type": "stream",
     "text": [
      "c:\\Users\\denmanlab\\Documents\\GitHub\\nwb\\Rotation_files\\paBont_analysis_class.py:390: UserWarning: Boolean Series key will be reindexed to match DataFrame index.\n",
      "  df1 = df_units[df_units.probe == probeLetter][df_units.label == 2]\n",
      "c:\\Users\\denmanlab\\Documents\\GitHub\\nwb\\Rotation_files\\paBont_analysis_class.py:390: UserWarning: Boolean Series key will be reindexed to match DataFrame index.\n",
      "  df1 = df_units[df_units.probe == probeLetter][df_units.label == 2]\n",
      "c:\\Users\\denmanlab\\Documents\\GitHub\\nwb\\Rotation_files\\paBont_analysis_class.py:390: UserWarning: Boolean Series key will be reindexed to match DataFrame index.\n",
      "  df1 = df_units[df_units.probe == probeLetter][df_units.label == 2]\n"
     ]
    }
   ],
   "source": [
    "path = r\"G:/Grant/rotation/2023-09-20_14-25-05_eOPN3_33/plots/scenes/probeA/\"\n",
    "eOPN3_3.allUnit_scenes(\"A\", \"V1\", path, True)\n",
    "\n",
    "path = r\"G:/Grant/rotation/2023-09-20_14-25-05_eOPN3_33/plots/scenes/probeB/\"\n",
    "eOPN3_3.allUnit_scenes(\"B\", \"LP\", path, True)\n",
    "\n",
    "path = r\"G:/Grant/rotation/2023-09-20_14-25-05_eOPN3_33/plots/scenes/probeC/\"\n",
    "eOPN3_3.allUnit_scenes(\"C\", \"LGN\", path, True)"
   ]
  },
  {
   "cell_type": "code",
   "execution_count": 4,
   "metadata": {},
   "outputs": [
    {
     "name": "stderr",
     "output_type": "stream",
     "text": [
      "c:\\Users\\denmanlab\\Documents\\GitHub\\nwb\\Rotation_files\\paBont_analysis_class.py:469: UserWarning: Boolean Series key will be reindexed to match DataFrame index.\n",
      "  df1 = df_units[df_units.probe == probeLetter][df_units.label == 2]\n"
     ]
    }
   ],
   "source": [
    "path = r\"G:/Grant/rotation/2023-09-20_14-25-05_eOPN3_33/plots/scenes/conjoined_plots/probeA/\"\n",
    "eOPN3_3.allUnit_scenes_conjoined(\"A\", \"V1\", path, True)\n",
    "\n",
    "# path = r\"G:/Grant/rotation/2023-09-20_14-25-05_eOPN3_33/plots/scenes/conjoined_plots/probeB/\"\n",
    "# eOPN3_3.allUnit_scenes_conjoined(\"B\", \"LP\", path, True)\n",
    "\n",
    "# path = r\"G:/Grant/rotation/2023-09-20_14-25-05_eOPN3_33/plots/scenes/conjoined_plots/probeC/\"\n",
    "# eOPN3_3.allUnit_scenes_conjoined(\"C\", \"LGN\", path, True)"
   ]
  },
  {
   "cell_type": "code",
   "execution_count": 13,
   "metadata": {},
   "outputs": [
    {
     "ename": "AttributeError",
     "evalue": "'Eopn3_Ephys' object has no attribute 'allUnits_flash_epoch_psthLined'",
     "output_type": "error",
     "traceback": [
      "\u001b[1;31m---------------------------------------------------------------------------\u001b[0m",
      "\u001b[1;31mAttributeError\u001b[0m                            Traceback (most recent call last)",
      "\u001b[1;32mc:\\Users\\denmanlab\\Documents\\GitHub\\nwb\\Rotation_files\\eOPN3_3_analysis.ipynb Cell 10\u001b[0m line \u001b[0;36m2\n\u001b[0;32m      <a href='vscode-notebook-cell:/c%3A/Users/denmanlab/Documents/GitHub/nwb/Rotation_files/eOPN3_3_analysis.ipynb#X11sZmlsZQ%3D%3D?line=0'>1</a>\u001b[0m path \u001b[39m=\u001b[39m \u001b[39mrf\u001b[39m\u001b[39m\"\u001b[39m\u001b[39mG:/Grant/rotation/\u001b[39m\u001b[39m{\u001b[39;00mrecording_name\u001b[39m}\u001b[39;00m\u001b[39m/plots/flashes/epoch/probeC/\u001b[39m\u001b[39m\"\u001b[39m\n\u001b[1;32m----> <a href='vscode-notebook-cell:/c%3A/Users/denmanlab/Documents/GitHub/nwb/Rotation_files/eOPN3_3_analysis.ipynb#X11sZmlsZQ%3D%3D?line=1'>2</a>\u001b[0m eOPN3_3\u001b[39m.\u001b[39;49mallUnits_flash_epoch_psthLined(\u001b[39m\"\u001b[39m\u001b[39mC\u001b[39m\u001b[39m\"\u001b[39m,\u001b[39m\"\u001b[39m\u001b[39mLM\u001b[39m\u001b[39m\"\u001b[39m, path,\u001b[39mTrue\u001b[39;00m,)\n\u001b[0;32m      <a href='vscode-notebook-cell:/c%3A/Users/denmanlab/Documents/GitHub/nwb/Rotation_files/eOPN3_3_analysis.ipynb#X11sZmlsZQ%3D%3D?line=3'>4</a>\u001b[0m path \u001b[39m=\u001b[39m \u001b[39mrf\u001b[39m\u001b[39m\"\u001b[39m\u001b[39mG:/Grant/rotation/\u001b[39m\u001b[39m{\u001b[39;00mrecording_name\u001b[39m}\u001b[39;00m\u001b[39m/plots/gratings/epoch/probeC/\u001b[39m\u001b[39m\"\u001b[39m\n\u001b[0;32m      <a href='vscode-notebook-cell:/c%3A/Users/denmanlab/Documents/GitHub/nwb/Rotation_files/eOPN3_3_analysis.ipynb#X11sZmlsZQ%3D%3D?line=4'>5</a>\u001b[0m eOPN3_3\u001b[39m.\u001b[39mallUnits_grating_epoch_psthLined(\u001b[39m\"\u001b[39m\u001b[39mC\u001b[39m\u001b[39m\"\u001b[39m,\u001b[39m\"\u001b[39m\u001b[39mLM\u001b[39m\u001b[39m\"\u001b[39m, path,\u001b[39mTrue\u001b[39;00m,)\n",
      "\u001b[1;31mAttributeError\u001b[0m: 'Eopn3_Ephys' object has no attribute 'allUnits_flash_epoch_psthLined'"
     ]
    }
   ],
   "source": [
    "path = rf\"G:/Grant/rotation/{recording_name}/plots/flashes/epoch/probeC/\"\n",
    "eOPN3_3.allUnits_flash_epoch_psthLined(\"C\",\"LM\", path,True,)\n",
    "\n",
    "path = rf\"G:/Grant/rotation/{recording_name}/plots/gratings/epoch/probeC/\"\n",
    "eOPN3_3.allUnits_grating_epoch_psthLined(\"C\",\"LM\", path,True,)\n",
    "\n",
    "path = rf\"G:/Grant/rotation/{recording_name}/plots/scenes/epoch/probeC/\"\n",
    "eOPN3_3.allUnits_scene_epoch_psthLined(\"C\",\"LM\", path,True,)"
   ]
  },
  {
   "cell_type": "code",
   "execution_count": null,
   "metadata": {},
   "outputs": [],
   "source": []
  }
 ],
 "metadata": {
  "kernelspec": {
   "display_name": "base",
   "language": "python",
   "name": "python3"
  },
  "language_info": {
   "codemirror_mode": {
    "name": "ipython",
    "version": 3
   },
   "file_extension": ".py",
   "mimetype": "text/x-python",
   "name": "python",
   "nbconvert_exporter": "python",
   "pygments_lexer": "ipython3",
   "version": "3.11.4"
  }
 },
 "nbformat": 4,
 "nbformat_minor": 2
}
